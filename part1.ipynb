{
  "nbformat": 4,
  "nbformat_minor": 0,
  "metadata": {
    "colab": {
      "name": "part1.ipynb",
      "provenance": []
    },
    "kernelspec": {
      "name": "python3",
      "display_name": "Python 3"
    },
    "language_info": {
      "name": "python"
    }
  },
  "cells": [
    {
      "cell_type": "markdown",
      "source": [
        "# <u>**Part 1**"
      ],
      "metadata": {
        "id": "j_67BfJPzjjk"
      }
    },
    {
      "cell_type": "code",
      "source": [
        "import numpy as np"
      ],
      "metadata": {
        "id": "psWTX1YZwAMI"
      },
      "execution_count": 16,
      "outputs": []
    },
    {
      "cell_type": "markdown",
      "source": [
        "### **Exercise 1**\n"
      ],
      "metadata": {
        "id": "bJw1ADw3vMYu"
      }
    },
    {
      "cell_type": "markdown",
      "source": [
        "Check if all elements from the following array return the logical value True:"
      ],
      "metadata": {
        "id": "p_qZyNwbvp46"
      }
    },
    {
      "cell_type": "code",
      "execution_count": 17,
      "metadata": {
        "id": "ivaisSeuvE2Y"
      },
      "outputs": [],
      "source": [
        "A = np.array([[3, 2, 1, 4],\n",
        "             [5, 2, 1, 6]])\n",
        "\n",
        "B = np.array([[3, 2, 1, 4],\n",
        "             [5, 2, 0, 6]])\n",
        "\n",
        "C = ([[True, False, False],\n",
        "      [True, True, False]])\n",
        "\n",
        "D = np.array([0.1, 0.3])"
      ]
    },
    {
      "cell_type": "code",
      "source": [
        "for name, array in zip(list('ABCD'), [A, B, C, D]):\n",
        "    print(f'{name}: {np.all(array)}')"
      ],
      "metadata": {
        "colab": {
          "base_uri": "https://localhost:8080/"
        },
        "id": "gdMq3BB4wf6_",
        "outputId": "8bfc5b10-4e18-4c0c-e980-c54559242f63"
      },
      "execution_count": 18,
      "outputs": [
        {
          "output_type": "stream",
          "name": "stdout",
          "text": [
            "A: True\n",
            "B: False\n",
            "C: False\n",
            "D: True\n"
          ]
        }
      ]
    },
    {
      "cell_type": "markdown",
      "source": [
        "### **Exercise 2**\n"
      ],
      "metadata": {
        "id": "UoaSg3Jfxcs6"
      }
    },
    {
      "cell_type": "markdown",
      "source": [
        "Check if all elements from the following arrays return the logical value *True* along with *index 1*:"
      ],
      "metadata": {
        "id": "iSJDgG74ygSg"
      }
    },
    {
      "cell_type": "code",
      "source": [
        "A = np.array([[3, 2, 1, 4],\n",
        "             [5, 2, 1, 6]])\n",
        "\n",
        "B = np.array([[3, 2, 1, 4],\n",
        "             [5, 2, 0, 6]])\n",
        "\n",
        "C = ([[True, False, False],\n",
        "      [True, True, False]])"
      ],
      "metadata": {
        "id": "MIhJkdDlxcUo"
      },
      "execution_count": 19,
      "outputs": []
    },
    {
      "cell_type": "code",
      "source": [
        "for name, array in zip(list('ABC'), [A, B, C]):\n",
        "    print(f'{name}: {np.all(array, axis=1)}')"
      ],
      "metadata": {
        "colab": {
          "base_uri": "https://localhost:8080/"
        },
        "id": "NMlRHYd9ynPq",
        "outputId": "86f7de88-c968-420e-ad86-05697fa21402"
      },
      "execution_count": 20,
      "outputs": [
        {
          "output_type": "stream",
          "name": "stdout",
          "text": [
            "A: [ True  True]\n",
            "B: [ True False]\n",
            "C: [False False]\n"
          ]
        }
      ]
    },
    {
      "cell_type": "markdown",
      "source": [
        "### **Exercise 3**\n",
        "\n"
      ],
      "metadata": {
        "id": "INHZtvhdzEy7"
      }
    },
    {
      "cell_type": "markdown",
      "source": [
        "Check if *any* element of the following arrays returns the logical value True:"
      ],
      "metadata": {
        "id": "i3bl9O0c0BVH"
      }
    },
    {
      "cell_type": "code",
      "source": [
        "A = np.array([[3, 2, 1, 4],\n",
        "             [5, 2, 1, 6]])\n",
        "\n",
        "B = np.array([[3, 2, 1, 4],\n",
        "             [5, 2, 0, 6]])\n",
        "\n",
        "C = ([[True, False, False],\n",
        "      [True, True, False]])\n",
        "\n",
        "D = np.array([0.1, 0.3])"
      ],
      "metadata": {
        "id": "I_V0QzjT2Bbw"
      },
      "execution_count": 21,
      "outputs": []
    },
    {
      "cell_type": "code",
      "source": [
        "for name, array in zip(list('ABCD'), [A, B, C, D]):\n",
        "    print(f'{name}: {np.any(array)}')"
      ],
      "metadata": {
        "colab": {
          "base_uri": "https://localhost:8080/"
        },
        "id": "2D6npdEYzqpq",
        "outputId": "fcba3130-06ef-4634-9adc-a85153b86d47"
      },
      "execution_count": 22,
      "outputs": [
        {
          "output_type": "stream",
          "name": "stdout",
          "text": [
            "A: True\n",
            "B: True\n",
            "C: True\n",
            "D: True\n"
          ]
        }
      ]
    },
    {
      "cell_type": "markdown",
      "source": [
        "### **Exercise 4**"
      ],
      "metadata": {
        "id": "E5KWsLSi2bU2"
      }
    },
    {
      "cell_type": "markdown",
      "source": [
        "Check if any element of the following arrays returns the logical value True along the axis with *index 0*:"
      ],
      "metadata": {
        "id": "yGP3-vmJ16nc"
      }
    },
    {
      "cell_type": "code",
      "source": [
        "A = np.array([[0, 0, 0],\n",
        "              [0, 0, 0]])\n",
        " \n",
        "B = np.array([[0, 0, 0],\n",
        "              [0, 1, 0]])\n",
        " \n",
        "C = np.array([[False, False, False],\n",
        "              [True, False, False]])\n",
        " \n",
        "D = np.array([[0.1, 0.0]])"
      ],
      "metadata": {
        "id": "ZY74kGOC2bDg"
      },
      "execution_count": 23,
      "outputs": []
    },
    {
      "cell_type": "code",
      "source": [
        "for name, array in zip(list('ABCD'), [A, B, C, D]):\n",
        "    print(f'{name}: {np.any(array, axis=0)}')"
      ],
      "metadata": {
        "colab": {
          "base_uri": "https://localhost:8080/"
        },
        "id": "NfLX_2tL2k0j",
        "outputId": "a148c0ac-22d8-48cb-deee-0c054916e828"
      },
      "execution_count": 24,
      "outputs": [
        {
          "output_type": "stream",
          "name": "stdout",
          "text": [
            "A: [False False False]\n",
            "B: [False  True False]\n",
            "C: [ True False False]\n",
            "D: [ True False]\n"
          ]
        }
      ]
    },
    {
      "cell_type": "markdown",
      "source": [
        "### **Exercise 5**"
      ],
      "metadata": {
        "id": "ds-cncqUFFMg"
      }
    },
    {
      "cell_type": "markdown",
      "source": [
        "Check if the following array has missing data"
      ],
      "metadata": {
        "id": "H3AVEGwJFH4p"
      }
    },
    {
      "cell_type": "code",
      "source": [
        "A = np.array([[3, 2, 1, np.nan],\n",
        "              [5, np.nan, 1, 6]])"
      ],
      "metadata": {
        "id": "FHG2XIUyFRbq"
      },
      "execution_count": 25,
      "outputs": []
    },
    {
      "cell_type": "code",
      "source": [
        "np.isnan(A)"
      ],
      "metadata": {
        "colab": {
          "base_uri": "https://localhost:8080/"
        },
        "id": "rR-Y4pIGFXvs",
        "outputId": "472e0ea7-bc87-401f-d725-74f648cabce7"
      },
      "execution_count": 26,
      "outputs": [
        {
          "output_type": "execute_result",
          "data": {
            "text/plain": [
              "array([[False, False, False,  True],\n",
              "       [False,  True, False, False]])"
            ]
          },
          "metadata": {},
          "execution_count": 26
        }
      ]
    },
    {
      "cell_type": "markdown",
      "source": [
        "### **Exercise 6**"
      ],
      "metadata": {
        "id": "7fjs07Cc1V-L"
      }
    },
    {
      "cell_type": "markdown",
      "source": [
        "Check if the following arrays are equal (element-wise):"
      ],
      "metadata": {
        "id": "jXGpl9eM1Z49"
      }
    },
    {
      "cell_type": "code",
      "source": [
        "A = np.array([0.4, 0.5, 0.3])\n",
        "B = np.array([0.39999999, 0.5000001, 0.3])"
      ],
      "metadata": {
        "id": "ac9Ha4z71dGB"
      },
      "execution_count": 27,
      "outputs": []
    },
    {
      "cell_type": "code",
      "source": [
        "np.allclose(A,B)"
      ],
      "metadata": {
        "colab": {
          "base_uri": "https://localhost:8080/"
        },
        "id": "5gksNIiy1h55",
        "outputId": "d6ec4e44-162f-4289-bfe3-d074a4240509"
      },
      "execution_count": 28,
      "outputs": [
        {
          "output_type": "execute_result",
          "data": {
            "text/plain": [
              "True"
            ]
          },
          "metadata": {},
          "execution_count": 28
        }
      ]
    },
    {
      "cell_type": "markdown",
      "source": [
        "### **Exercise 7**"
      ],
      "metadata": {
        "id": "BWJ8g4Ti17N5"
      }
    },
    {
      "cell_type": "markdown",
      "source": [
        "Check if the following arrays are equal (element-wise):"
      ],
      "metadata": {
        "id": "nCu7ZtwE198w"
      }
    },
    {
      "cell_type": "code",
      "source": [
        "A = np.array([0.4, 0.5, 0.3])\n",
        "B = np.array([0.3999999999, 0.5000000001, 0.3])"
      ],
      "metadata": {
        "id": "CPuKx0_E19Jn"
      },
      "execution_count": 29,
      "outputs": []
    },
    {
      "cell_type": "code",
      "source": [
        "# method 1\n",
        "A == B"
      ],
      "metadata": {
        "colab": {
          "base_uri": "https://localhost:8080/"
        },
        "id": "nwty0qvG2LKO",
        "outputId": "eb97b428-28de-4728-98cc-ee626cba5dd2"
      },
      "execution_count": 30,
      "outputs": [
        {
          "output_type": "execute_result",
          "data": {
            "text/plain": [
              "array([False, False,  True])"
            ]
          },
          "metadata": {},
          "execution_count": 30
        }
      ]
    },
    {
      "cell_type": "code",
      "source": [
        "# method 2\n",
        "np.equal(A, B)"
      ],
      "metadata": {
        "colab": {
          "base_uri": "https://localhost:8080/"
        },
        "id": "2UYYwlxq2tVy",
        "outputId": "3e75bb03-32b3-478c-e65f-b2452e67cbad"
      },
      "execution_count": 31,
      "outputs": [
        {
          "output_type": "execute_result",
          "data": {
            "text/plain": [
              "array([False, False,  True])"
            ]
          },
          "metadata": {},
          "execution_count": 31
        }
      ]
    },
    {
      "cell_type": "markdown",
      "source": [
        "### **Exercise 8**"
      ],
      "metadata": {
        "id": "gf9EzpU_2_sL"
      }
    },
    {
      "cell_type": "markdown",
      "source": [
        "Check which numbers (element-wise) from the A array are greater than numbers from the B array and print result to the console as shown below."
      ],
      "metadata": {
        "id": "dm6tWNm-3Dgg"
      }
    },
    {
      "cell_type": "code",
      "source": [
        "A = np.array([0.4, 0.5, 0.3, 0.9])\n",
        "B = np.array([0.38, 0.51, 0.3, 0.91])"
      ],
      "metadata": {
        "id": "yYEL-3uR3G8S"
      },
      "execution_count": 32,
      "outputs": []
    },
    {
      "cell_type": "code",
      "source": [
        "# method 1\n",
        "np.greater(A,B)"
      ],
      "metadata": {
        "colab": {
          "base_uri": "https://localhost:8080/"
        },
        "id": "hPw2Z9aT3Ksj",
        "outputId": "2480a9b9-aa44-4579-c372-210b597b484f"
      },
      "execution_count": 33,
      "outputs": [
        {
          "output_type": "execute_result",
          "data": {
            "text/plain": [
              "array([ True, False, False, False])"
            ]
          },
          "metadata": {},
          "execution_count": 33
        }
      ]
    },
    {
      "cell_type": "code",
      "source": [
        "# method 2\n",
        "A > B"
      ],
      "metadata": {
        "colab": {
          "base_uri": "https://localhost:8080/"
        },
        "id": "Y8KwF_2G3Xne",
        "outputId": "a92a3f53-d155-4e9f-96a2-41d220cc4b46"
      },
      "execution_count": 34,
      "outputs": [
        {
          "output_type": "execute_result",
          "data": {
            "text/plain": [
              "array([ True, False, False, False])"
            ]
          },
          "metadata": {},
          "execution_count": 34
        }
      ]
    },
    {
      "cell_type": "markdown",
      "source": [
        "### **Exercise 9**"
      ],
      "metadata": {
        "id": "QLaAZXL-4Qap"
      }
    },
    {
      "cell_type": "markdown",
      "source": [
        "Using Numpy create a 4x4 array filled with zeros (set data type to int)"
      ],
      "metadata": {
        "id": "iyDgIv044SzE"
      }
    },
    {
      "cell_type": "code",
      "source": [
        "array = np.zeros((4,4), dtype=int)\n",
        "array"
      ],
      "metadata": {
        "colab": {
          "base_uri": "https://localhost:8080/"
        },
        "id": "LH-MFVRp4XKq",
        "outputId": "2c4edd0e-02ef-42ce-ca21-ef121c74a0fc"
      },
      "execution_count": 35,
      "outputs": [
        {
          "output_type": "execute_result",
          "data": {
            "text/plain": [
              "array([[0, 0, 0, 0],\n",
              "       [0, 0, 0, 0],\n",
              "       [0, 0, 0, 0],\n",
              "       [0, 0, 0, 0]])"
            ]
          },
          "metadata": {},
          "execution_count": 35
        }
      ]
    },
    {
      "cell_type": "markdown",
      "source": [
        "### **Exercise 10**"
      ],
      "metadata": {
        "id": "tLCROcw_5DD4"
      }
    },
    {
      "cell_type": "markdown",
      "source": [
        "Using Numpy, create an array 10x10 filled with number 255 and set the data type to float"
      ],
      "metadata": {
        "id": "9ieYLxPW5Ghs"
      }
    },
    {
      "cell_type": "code",
      "source": [
        "# method 1\n",
        "np.full((10,10), 255, dtype=float)"
      ],
      "metadata": {
        "colab": {
          "base_uri": "https://localhost:8080/"
        },
        "id": "aSar25dZ5I4A",
        "outputId": "aa8d2a16-80be-4574-ea95-73112af80e5d"
      },
      "execution_count": 36,
      "outputs": [
        {
          "output_type": "execute_result",
          "data": {
            "text/plain": [
              "array([[255., 255., 255., 255., 255., 255., 255., 255., 255., 255.],\n",
              "       [255., 255., 255., 255., 255., 255., 255., 255., 255., 255.],\n",
              "       [255., 255., 255., 255., 255., 255., 255., 255., 255., 255.],\n",
              "       [255., 255., 255., 255., 255., 255., 255., 255., 255., 255.],\n",
              "       [255., 255., 255., 255., 255., 255., 255., 255., 255., 255.],\n",
              "       [255., 255., 255., 255., 255., 255., 255., 255., 255., 255.],\n",
              "       [255., 255., 255., 255., 255., 255., 255., 255., 255., 255.],\n",
              "       [255., 255., 255., 255., 255., 255., 255., 255., 255., 255.],\n",
              "       [255., 255., 255., 255., 255., 255., 255., 255., 255., 255.],\n",
              "       [255., 255., 255., 255., 255., 255., 255., 255., 255., 255.]])"
            ]
          },
          "metadata": {},
          "execution_count": 36
        }
      ]
    },
    {
      "cell_type": "code",
      "source": [
        "# method 2\n",
        "np.ones((10,10), dtype=float) * 255"
      ],
      "metadata": {
        "colab": {
          "base_uri": "https://localhost:8080/"
        },
        "id": "Xn5N_DYf5own",
        "outputId": "38a5c4ea-81bf-4ccf-a9a6-f3035008b64d"
      },
      "execution_count": 37,
      "outputs": [
        {
          "output_type": "execute_result",
          "data": {
            "text/plain": [
              "array([[255., 255., 255., 255., 255., 255., 255., 255., 255., 255.],\n",
              "       [255., 255., 255., 255., 255., 255., 255., 255., 255., 255.],\n",
              "       [255., 255., 255., 255., 255., 255., 255., 255., 255., 255.],\n",
              "       [255., 255., 255., 255., 255., 255., 255., 255., 255., 255.],\n",
              "       [255., 255., 255., 255., 255., 255., 255., 255., 255., 255.],\n",
              "       [255., 255., 255., 255., 255., 255., 255., 255., 255., 255.],\n",
              "       [255., 255., 255., 255., 255., 255., 255., 255., 255., 255.],\n",
              "       [255., 255., 255., 255., 255., 255., 255., 255., 255., 255.],\n",
              "       [255., 255., 255., 255., 255., 255., 255., 255., 255., 255.],\n",
              "       [255., 255., 255., 255., 255., 255., 255., 255., 255., 255.]])"
            ]
          },
          "metadata": {},
          "execution_count": 37
        }
      ]
    }
  ]
}