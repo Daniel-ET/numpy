{
  "nbformat": 4,
  "nbformat_minor": 0,
  "metadata": {
    "colab": {
      "provenance": [],
      "collapsed_sections": []
    },
    "kernelspec": {
      "name": "python3",
      "display_name": "Python 3"
    },
    "language_info": {
      "name": "python"
    }
  },
  "cells": [
    {
      "cell_type": "markdown",
      "source": [
        "# <u>**Part 2**"
      ],
      "metadata": {
        "id": "ZXxyjKJe9sy_"
      }
    },
    {
      "cell_type": "code",
      "source": [
        "import numpy as np"
      ],
      "metadata": {
        "id": "m1834fy5-ay_"
      },
      "execution_count": 2,
      "outputs": []
    },
    {
      "cell_type": "markdown",
      "source": [
        "### **Exercise 11**\n",
        "\n",
        "Using Numpy create a one-dimensional array of all two-digit numbers"
      ],
      "metadata": {
        "id": "MQfLQhha9xG5"
      }
    },
    {
      "cell_type": "code",
      "execution_count": null,
      "metadata": {
        "colab": {
          "base_uri": "https://localhost:8080/"
        },
        "id": "rGibDW1X9iw7",
        "outputId": "a15a553b-a58c-4708-8283-fe107ff74b03"
      },
      "outputs": [
        {
          "output_type": "execute_result",
          "data": {
            "text/plain": [
              "array([10, 11, 12, 13, 14, 15, 16, 17, 18, 19, 20, 21, 22, 23, 24, 25, 26,\n",
              "       27, 28, 29, 30, 31, 32, 33, 34, 35, 36, 37, 38, 39, 40, 41, 42, 43,\n",
              "       44, 45, 46, 47, 48, 49, 50, 51, 52, 53, 54, 55, 56, 57, 58, 59, 60,\n",
              "       61, 62, 63, 64, 65, 66, 67, 68, 69, 70, 71, 72, 73, 74, 75, 76, 77,\n",
              "       78, 79, 80, 81, 82, 83, 84, 85, 86, 87, 88, 89, 90, 91, 92, 93, 94,\n",
              "       95, 96, 97, 98, 99])"
            ]
          },
          "metadata": {},
          "execution_count": 3
        }
      ],
      "source": [
        "np.arange(10,100)"
      ]
    },
    {
      "cell_type": "markdown",
      "source": [
        "### **Exercise 12**\n",
        "\n",
        "reshape the previous array to a 9x10 array."
      ],
      "metadata": {
        "id": "NgtrGq_N_U1S"
      }
    },
    {
      "cell_type": "code",
      "source": [
        "np.arange(10,100).reshape(9,10)"
      ],
      "metadata": {
        "colab": {
          "base_uri": "https://localhost:8080/"
        },
        "id": "2vov0OKgAlT3",
        "outputId": "0e4fdd13-7b6f-4490-9f54-81faa317c2c2"
      },
      "execution_count": null,
      "outputs": [
        {
          "output_type": "execute_result",
          "data": {
            "text/plain": [
              "array([[10, 11, 12, 13, 14, 15, 16, 17, 18, 19],\n",
              "       [20, 21, 22, 23, 24, 25, 26, 27, 28, 29],\n",
              "       [30, 31, 32, 33, 34, 35, 36, 37, 38, 39],\n",
              "       [40, 41, 42, 43, 44, 45, 46, 47, 48, 49],\n",
              "       [50, 51, 52, 53, 54, 55, 56, 57, 58, 59],\n",
              "       [60, 61, 62, 63, 64, 65, 66, 67, 68, 69],\n",
              "       [70, 71, 72, 73, 74, 75, 76, 77, 78, 79],\n",
              "       [80, 81, 82, 83, 84, 85, 86, 87, 88, 89],\n",
              "       [90, 91, 92, 93, 94, 95, 96, 97, 98, 99]])"
            ]
          },
          "metadata": {},
          "execution_count": 5
        }
      ]
    },
    {
      "cell_type": "code",
      "source": [
        "array = np.arange(10,100)\n",
        "array.reshape(9,10)"
      ],
      "metadata": {
        "colab": {
          "base_uri": "https://localhost:8080/"
        },
        "id": "eDJTZk-g_xdz",
        "outputId": "d1fca597-a4d2-4e63-f70a-9810e3bae583"
      },
      "execution_count": null,
      "outputs": [
        {
          "output_type": "execute_result",
          "data": {
            "text/plain": [
              "array([[10, 11, 12, 13, 14, 15, 16, 17, 18, 19],\n",
              "       [20, 21, 22, 23, 24, 25, 26, 27, 28, 29],\n",
              "       [30, 31, 32, 33, 34, 35, 36, 37, 38, 39],\n",
              "       [40, 41, 42, 43, 44, 45, 46, 47, 48, 49],\n",
              "       [50, 51, 52, 53, 54, 55, 56, 57, 58, 59],\n",
              "       [60, 61, 62, 63, 64, 65, 66, 67, 68, 69],\n",
              "       [70, 71, 72, 73, 74, 75, 76, 77, 78, 79],\n",
              "       [80, 81, 82, 83, 84, 85, 86, 87, 88, 89],\n",
              "       [90, 91, 92, 93, 94, 95, 96, 97, 98, 99]])"
            ]
          },
          "metadata": {},
          "execution_count": 4
        }
      ]
    },
    {
      "cell_type": "markdown",
      "source": [
        "### **Exercise 13**\n",
        "\n",
        "Using Numpy create a 6x6  identity matrix with int data type"
      ],
      "metadata": {
        "id": "Dgj9tMxexRZ-"
      }
    },
    {
      "cell_type": "code",
      "source": [
        "np.eye(6,6, dtype=int)"
      ],
      "metadata": {
        "colab": {
          "base_uri": "https://localhost:8080/"
        },
        "id": "g3iFi0ucxaoA",
        "outputId": "ad5920b3-2df7-4edd-e096-4489332fe690"
      },
      "execution_count": null,
      "outputs": [
        {
          "output_type": "execute_result",
          "data": {
            "text/plain": [
              "array([[1, 0, 0, 0, 0, 0],\n",
              "       [0, 1, 0, 0, 0, 0],\n",
              "       [0, 0, 1, 0, 0, 0],\n",
              "       [0, 0, 0, 1, 0, 0],\n",
              "       [0, 0, 0, 0, 1, 0],\n",
              "       [0, 0, 0, 0, 0, 1]])"
            ]
          },
          "metadata": {},
          "execution_count": 3
        }
      ]
    },
    {
      "cell_type": "markdown",
      "source": [
        "### **Exercise 14**\n",
        "\n",
        "Set the random seed to 10. Then using Numpy create a one-dimensional array consisting of 30 pseudo-randomly generated values from the uniform distribution [0,1]."
      ],
      "metadata": {
        "id": "1nyNqtMpyGdw"
      }
    },
    {
      "cell_type": "code",
      "source": [
        "np.random.seed(10)\n",
        "np.random.rand(30)"
      ],
      "metadata": {
        "colab": {
          "base_uri": "https://localhost:8080/"
        },
        "id": "PfZGf9hTyGCq",
        "outputId": "eb5f67c0-b6d2-4811-fad6-abdfbc39908e"
      },
      "execution_count": null,
      "outputs": [
        {
          "output_type": "execute_result",
          "data": {
            "text/plain": [
              "array([0.77132064, 0.02075195, 0.63364823, 0.74880388, 0.49850701,\n",
              "       0.22479665, 0.19806286, 0.76053071, 0.16911084, 0.08833981,\n",
              "       0.68535982, 0.95339335, 0.00394827, 0.51219226, 0.81262096,\n",
              "       0.61252607, 0.72175532, 0.29187607, 0.91777412, 0.71457578,\n",
              "       0.54254437, 0.14217005, 0.37334076, 0.67413362, 0.44183317,\n",
              "       0.43401399, 0.61776698, 0.51313824, 0.65039718, 0.60103895])"
            ]
          },
          "metadata": {},
          "execution_count": 4
        }
      ]
    },
    {
      "cell_type": "markdown",
      "source": [
        "### **Exercise 15**\n",
        "\n",
        "Using Numpy create a two-dimensional array with the shape (10, 4) pseudo-randomly generated values from the standard normal distribution N(0,1). Set the random seed to 20. "
      ],
      "metadata": {
        "id": "_xezcz-8tgg0"
      }
    },
    {
      "cell_type": "code",
      "source": [
        "import numpy as np\n",
        "\n",
        "np.random.seed(20)\n",
        "np.random.randn(10,4)"
      ],
      "metadata": {
        "colab": {
          "base_uri": "https://localhost:8080/"
        },
        "id": "5BcGudPztnqO",
        "outputId": "2083f699-bd89-4ff4-81d5-7d2d75bcf5ec"
      },
      "execution_count": 1,
      "outputs": [
        {
          "output_type": "execute_result",
          "data": {
            "text/plain": [
              "array([[ 0.88389311,  0.19586502,  0.35753652, -2.34326191],\n",
              "       [-1.08483259,  0.55969629,  0.93946935, -0.97848104],\n",
              "       [ 0.50309684,  0.40641447,  0.32346101, -0.49341088],\n",
              "       [-0.79201679, -0.84236793, -1.27950266,  0.24571517],\n",
              "       [-0.0441948 ,  1.56763255,  1.05110868,  0.40636843],\n",
              "       [-0.1686461 , -3.18970279,  1.12013226,  1.33277821],\n",
              "       [-0.24333877, -0.13003071, -0.10901737,  1.55618644],\n",
              "       [ 0.12877835, -2.06694872, -0.88549315, -1.10457948],\n",
              "       [ 0.93286635,  2.059838  , -0.93493796, -1.61299022],\n",
              "       [ 0.52706972, -1.55110074,  0.32961334, -1.13652654]])"
            ]
          },
          "metadata": {},
          "execution_count": 1
        }
      ]
    },
    {
      "cell_type": "markdown",
      "source": [
        "### **Exercise 16**\n",
        "\n",
        "Using Numpy create a two-dimensional array with the shape (10, 4) pseudo-randomly generated values from the normal distribution N(100, 5). Set the random seed to 30. "
      ],
      "metadata": {
        "id": "pF3WqY8YuJyk"
      }
    },
    {
      "cell_type": "code",
      "source": [
        "np.random.seed(30)\n",
        "100 + np.sqrt(5) * np.random.randn(10,4)"
      ],
      "metadata": {
        "colab": {
          "base_uri": "https://localhost:8080/"
        },
        "id": "6IpxtCdkuS9h",
        "outputId": "8a790c32-9609-405c-c27a-80b752f4d80b"
      },
      "execution_count": 5,
      "outputs": [
        {
          "output_type": "execute_result",
          "data": {
            "text/plain": [
              "array([[ 97.17349231, 103.41650023,  97.82942436, 101.05220329],\n",
              "       [ 99.7748353 , 100.67930221,  96.14063068, 103.544381  ],\n",
              "       [100.30029631,  97.52499594, 103.52901961, 100.24037271],\n",
              "       [ 98.29153712,  98.2666258 , 103.09437633, 101.70027274],\n",
              "       [ 99.36127721, 101.20382627,  95.34026547, 102.09694365],\n",
              "       [ 99.98708001,  98.95468525,  99.05410904, 102.38025432],\n",
              "       [ 93.50787269, 103.61547679, 103.18753701,  98.51356237],\n",
              "       [102.20256689,  96.19764407,  97.54000366,  97.05813038],\n",
              "       [101.81233513,  97.66380453,  98.45883627,  98.09317768],\n",
              "       [102.48979932,  95.70413391,  98.43161651, 101.89861815]])"
            ]
          },
          "metadata": {},
          "execution_count": 5
        }
      ]
    },
    {
      "cell_type": "markdown",
      "source": [
        "### **Exercise 17**\n",
        "\n",
        "The following array is given:"
      ],
      "metadata": {
        "id": "2Z-Nbrciw3Hy"
      }
    },
    {
      "cell_type": "code",
      "source": [
        "A = np.array([[1, 4, 3],\n",
        "              [5, 2, 6]])"
      ],
      "metadata": {
        "id": "Rx_k-IJdw7Kd"
      },
      "execution_count": 6,
      "outputs": []
    },
    {
      "cell_type": "markdown",
      "source": [
        "Iterate through this array and print each element to the console.\n",
        "\n"
      ],
      "metadata": {
        "id": "PiNA9x2vw-yx"
      }
    },
    {
      "cell_type": "code",
      "source": [
        "for i in np.nditer(A):\n",
        "    print(i)"
      ],
      "metadata": {
        "colab": {
          "base_uri": "https://localhost:8080/"
        },
        "id": "pDVOPjCixBI9",
        "outputId": "eda43587-7646-412d-c56d-f896f0e1e1f3"
      },
      "execution_count": 8,
      "outputs": [
        {
          "output_type": "stream",
          "name": "stdout",
          "text": [
            "1\n",
            "4\n",
            "3\n",
            "5\n",
            "2\n",
            "6\n"
          ]
        }
      ]
    },
    {
      "cell_type": "markdown",
      "source": [],
      "metadata": {
        "id": "F-r9S-ng1_Tq"
      }
    },
    {
      "cell_type": "markdown",
      "source": [
        "### **Exercise 18**\n",
        "\n",
        "Using Numpy create a one-dimensional array (vector) consisting of eleven equally distributed numbers from the [0,1] interval."
      ],
      "metadata": {
        "id": "c2QLUSb9zGXd"
      }
    },
    {
      "cell_type": "code",
      "source": [
        "np.linspace(start=0, stop=1, num = 11)"
      ],
      "metadata": {
        "colab": {
          "base_uri": "https://localhost:8080/"
        },
        "id": "Wiopee02zKfG",
        "outputId": "1d9ba4cd-7d6e-499f-ce7c-c97b930c025f"
      },
      "execution_count": 11,
      "outputs": [
        {
          "output_type": "execute_result",
          "data": {
            "text/plain": [
              "array([0. , 0.1, 0.2, 0.3, 0.4, 0.5, 0.6, 0.7, 0.8, 0.9, 1. ])"
            ]
          },
          "metadata": {},
          "execution_count": 11
        }
      ]
    },
    {
      "cell_type": "markdown",
      "source": [
        "### **Exercise 19**\n",
        "\n",
        "\n",
        "Using Numpy create a one-dimensional array (vector) containing the possible result from the Big Lotto game. Set the random seed to 42. The result of this game is a 6-element vector of values from 1 to 49 inclusive."
      ],
      "metadata": {
        "id": "Sknlfz7X10pj"
      }
    },
    {
      "cell_type": "code",
      "source": [
        "np.random.seed(42)\n",
        "print(np.random.choice(range(1,50), size=6, replace=False))"
      ],
      "metadata": {
        "colab": {
          "base_uri": "https://localhost:8080/"
        },
        "id": "ioftCFTF1_zC",
        "outputId": "58913996-b275-4863-ed3b-d75acd0802b3"
      },
      "execution_count": 13,
      "outputs": [
        {
          "output_type": "stream",
          "name": "stdout",
          "text": [
            "[14 46 48 45 18 28]\n"
          ]
        }
      ]
    },
    {
      "cell_type": "markdown",
      "source": [
        "### **Exercise 20**\n",
        "\n",
        "Using Numpy create the following two-dimensional array:\n",
        "\n",
        "\n",
        "[[0 0 0 0 0 0]<br>\n",
        " [0 1 0 0 0 0]<br>\n",
        " [0 0 2 0 0 0]<br>\n",
        " [0 0 0 3 0 0]<br>\n",
        " [0 0 0 0 4 0]<br>\n",
        " [0 0 0 0 0 5]]\n"
      ],
      "metadata": {
        "id": "2TeTW8MM3Xiq"
      }
    },
    {
      "cell_type": "code",
      "source": [
        "np.diag(np.arange(6))"
      ],
      "metadata": {
        "colab": {
          "base_uri": "https://localhost:8080/"
        },
        "id": "y7u4mdOB31dO",
        "outputId": "d6f3ab65-ba7e-4a0c-fd3a-9509738c01a6"
      },
      "execution_count": 18,
      "outputs": [
        {
          "output_type": "execute_result",
          "data": {
            "text/plain": [
              "array([[0, 0, 0, 0, 0, 0],\n",
              "       [0, 1, 0, 0, 0, 0],\n",
              "       [0, 0, 2, 0, 0, 0],\n",
              "       [0, 0, 0, 3, 0, 0],\n",
              "       [0, 0, 0, 0, 4, 0],\n",
              "       [0, 0, 0, 0, 0, 5]])"
            ]
          },
          "metadata": {},
          "execution_count": 18
        }
      ]
    }
  ]
}