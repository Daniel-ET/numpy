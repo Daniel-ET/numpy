{
  "nbformat": 4,
  "nbformat_minor": 0,
  "metadata": {
    "colab": {
      "provenance": [],
      "collapsed_sections": []
    },
    "kernelspec": {
      "name": "python3",
      "display_name": "Python 3"
    },
    "language_info": {
      "name": "python"
    }
  },
  "cells": [
    {
      "cell_type": "markdown",
      "source": [
        "# <u>**Part 3**"
      ],
      "metadata": {
        "id": "RPzri2FMGJRS"
      }
    },
    {
      "cell_type": "code",
      "execution_count": 1,
      "metadata": {
        "id": "4Kw0m_rpGHkP"
      },
      "outputs": [],
      "source": [
        "import numpy as np"
      ]
    },
    {
      "cell_type": "markdown",
      "source": [
        "### **Exercise 21**"
      ],
      "metadata": {
        "id": "LD2TW1NjGRW5"
      }
    },
    {
      "cell_type": "markdown",
      "source": [
        "Using Numpy create the following array:\n",
        "\n",
        "[[ 0,  1,  2,  3],<br>\n",
        "[ 4,  5,  6,  7],<br>\n",
        "[ 8,  9, 10, 11]]\n",
        "\n",
        "Save this array to a binary file named 'array.npy' and then load that file back into another variable."
      ],
      "metadata": {
        "id": "RoUAQX-_GXRZ"
      }
    },
    {
      "cell_type": "code",
      "source": [
        "np.arange(0,12).reshape(3,4)"
      ],
      "metadata": {
        "colab": {
          "base_uri": "https://localhost:8080/"
        },
        "id": "IBj4THIpHjJr",
        "outputId": "f16d1342-287c-4cca-ee02-cdbe33c6b0b1"
      },
      "execution_count": 7,
      "outputs": [
        {
          "output_type": "execute_result",
          "data": {
            "text/plain": [
              "array([[ 0,  1,  2,  3],\n",
              "       [ 4,  5,  6,  7],\n",
              "       [ 8,  9, 10, 11]])"
            ]
          },
          "metadata": {},
          "execution_count": 7
        }
      ]
    },
    {
      "cell_type": "code",
      "source": [
        "A = np.arange(0,12).reshape(3,4)\n",
        "np.save('array.npy', A)"
      ],
      "metadata": {
        "id": "VbGn2CebGUjF"
      },
      "execution_count": 8,
      "outputs": []
    },
    {
      "cell_type": "code",
      "source": [
        "B = np.load('array.npy')\n",
        "B"
      ],
      "metadata": {
        "colab": {
          "base_uri": "https://localhost:8080/"
        },
        "id": "UkEw4qzzHXp5",
        "outputId": "71d49cd5-3415-40a8-b71e-905bfdf6f286"
      },
      "execution_count": 9,
      "outputs": [
        {
          "output_type": "execute_result",
          "data": {
            "text/plain": [
              "array([[ 0,  1,  2,  3],\n",
              "       [ 4,  5,  6,  7],\n",
              "       [ 8,  9, 10, 11]])"
            ]
          },
          "metadata": {},
          "execution_count": 9
        }
      ]
    },
    {
      "cell_type": "markdown",
      "source": [
        "### **Exercise 22**\n",
        "\n",
        "Using Numpy create the following array:\n",
        "\n",
        "[[ 0,  1,  2,  3],<br>\n",
        "[ 4,  5,  6,  7],<br>\n",
        "[ 8,  9, 10, 11]]\n",
        "\n",
        "Save this array to a text file named 'array.txt' with two decimal places and then load this file back into another variable. "
      ],
      "metadata": {
        "id": "ie-Zs_3mH711"
      }
    },
    {
      "cell_type": "code",
      "source": [
        "np.arange(0,12).reshape(3,4)"
      ],
      "metadata": {
        "colab": {
          "base_uri": "https://localhost:8080/"
        },
        "id": "FDzoI64JIUWa",
        "outputId": "de75f8e6-0a17-49cb-ea36-094b54300158"
      },
      "execution_count": 10,
      "outputs": [
        {
          "output_type": "execute_result",
          "data": {
            "text/plain": [
              "array([[ 0,  1,  2,  3],\n",
              "       [ 4,  5,  6,  7],\n",
              "       [ 8,  9, 10, 11]])"
            ]
          },
          "metadata": {},
          "execution_count": 10
        }
      ]
    },
    {
      "cell_type": "code",
      "source": [
        "A = np.arange(0,12).reshape(3,4)\n",
        "np.savetxt('array.txt', A)"
      ],
      "metadata": {
        "id": "RoaKtIWLIqIb"
      },
      "execution_count": 15,
      "outputs": []
    },
    {
      "cell_type": "code",
      "source": [
        "B = np.loadtxt('array.txt')\n",
        "B"
      ],
      "metadata": {
        "colab": {
          "base_uri": "https://localhost:8080/"
        },
        "id": "CAJuuCCYIt_p",
        "outputId": "a83d9d4d-6ef4-4017-a980-19db92bb292a"
      },
      "execution_count": 16,
      "outputs": [
        {
          "output_type": "execute_result",
          "data": {
            "text/plain": [
              "array([[ 0.,  1.,  2.,  3.],\n",
              "       [ 4.,  5.,  6.,  7.],\n",
              "       [ 8.,  9., 10., 11.]])"
            ]
          },
          "metadata": {},
          "execution_count": 16
        }
      ]
    },
    {
      "cell_type": "markdown",
      "source": [
        "### **Exercise 23**\n",
        "\n",
        "Using Numpy create and convert the following array into the list:\n",
        "\n",
        "[[ 0,  1,  2,  3],<br>\n",
        "[ 4,  5,  6,  7],<br>\n",
        "[ 8,  9, 10, 11]]\n"
      ],
      "metadata": {
        "id": "lQFPl611Je43"
      }
    },
    {
      "cell_type": "code",
      "source": [
        "A = np.arange(0,12).reshape(3,4)\n",
        "A"
      ],
      "metadata": {
        "colab": {
          "base_uri": "https://localhost:8080/"
        },
        "id": "A5Th4CLBJosj",
        "outputId": "f16419ce-b513-4316-864d-ad652a9a303e"
      },
      "execution_count": 17,
      "outputs": [
        {
          "output_type": "execute_result",
          "data": {
            "text/plain": [
              "array([[ 0,  1,  2,  3],\n",
              "       [ 4,  5,  6,  7],\n",
              "       [ 8,  9, 10, 11]])"
            ]
          },
          "metadata": {},
          "execution_count": 17
        }
      ]
    },
    {
      "cell_type": "code",
      "source": [
        "B = A.tolist()\n",
        "B"
      ],
      "metadata": {
        "colab": {
          "base_uri": "https://localhost:8080/"
        },
        "id": "92plfedbJx72",
        "outputId": "08722f75-7f72-48d5-a643-9a5f0b720911"
      },
      "execution_count": 20,
      "outputs": [
        {
          "output_type": "execute_result",
          "data": {
            "text/plain": [
              "[[0, 1, 2, 3], [4, 5, 6, 7], [8, 9, 10, 11]]"
            ]
          },
          "metadata": {},
          "execution_count": 20
        }
      ]
    },
    {
      "cell_type": "markdown",
      "source": [
        "### **Exercise 24**\n",
        "\n",
        "The following array is given:\n",
        "\n",
        "[[ 0,  1,  2,  3],<br>\n",
        "[ 4,  5,  6,  7],<br>\n",
        "[ 8,  9, 10, 11]] <br>\n",
        "\n",
        "Using the slice operator, transform this array into the following:\n",
        "\n",
        "[[ 8,  9,  10,  11],<br>\n",
        "[ 4,  5,  6,  7],<br>\n",
        "[ 0,  1, 2, 3]] <br>"
      ],
      "metadata": {
        "id": "YmBsIHPWTAmY"
      }
    },
    {
      "cell_type": "code",
      "source": [
        "A = np.arange(0,12).reshape(3,4)\n",
        "A"
      ],
      "metadata": {
        "colab": {
          "base_uri": "https://localhost:8080/"
        },
        "id": "6DAldNLlpHCd",
        "outputId": "d03812b5-b16b-4002-ab59-dd7a8e131b5d"
      },
      "execution_count": 21,
      "outputs": [
        {
          "output_type": "execute_result",
          "data": {
            "text/plain": [
              "array([[ 0,  1,  2,  3],\n",
              "       [ 4,  5,  6,  7],\n",
              "       [ 8,  9, 10, 11]])"
            ]
          },
          "metadata": {},
          "execution_count": 21
        }
      ]
    },
    {
      "cell_type": "code",
      "source": [
        "A[::-1]"
      ],
      "metadata": {
        "colab": {
          "base_uri": "https://localhost:8080/"
        },
        "id": "uuOGyuM7pcdU",
        "outputId": "aedcbb88-9c8e-432e-824c-314a282b4bcf"
      },
      "execution_count": 23,
      "outputs": [
        {
          "output_type": "execute_result",
          "data": {
            "text/plain": [
              "array([[ 8,  9, 10, 11],\n",
              "       [ 4,  5,  6,  7],\n",
              "       [ 0,  1,  2,  3]])"
            ]
          },
          "metadata": {},
          "execution_count": 23
        }
      ]
    },
    {
      "cell_type": "markdown",
      "source": [
        "### **Exercise 25**\n",
        "\n",
        "Transform the following array\n",
        "\n",
        "[[ 1, 1, 1, 1],<br>\n",
        "[ 1, 1, 1, 1],<br>\n",
        "[ 1, 1, 1, 1]<br>\n",
        "[ 1, 1, 1, 1]] <br>\n",
        "\n",
        "To the following array\n",
        "\n",
        "[[0, 0, 0, 0, 0, 0],<br>\n",
        "[ 0, 1, 1, 1, 1, 0],<br>\n",
        "[ 0, 1, 1, 1, 1, 0],<br>\n",
        "[ 0, 1, 1, 1, 1, 0],<br>\n",
        "[ 0, 1, 1, 1, 1, 0],<br>\n",
        "[ 0, 0, 0, 0, 0, 0]] <br>\n"
      ],
      "metadata": {
        "id": "c2OK_0xEqI5x"
      }
    },
    {
      "cell_type": "code",
      "source": [
        "A = np.ones(shape=(4,4))\n",
        "A"
      ],
      "metadata": {
        "colab": {
          "base_uri": "https://localhost:8080/"
        },
        "id": "BmhM2KHWslPA",
        "outputId": "068ce368-e515-4661-914f-659573e0a584"
      },
      "execution_count": 24,
      "outputs": [
        {
          "output_type": "execute_result",
          "data": {
            "text/plain": [
              "array([[1., 1., 1., 1.],\n",
              "       [1., 1., 1., 1.],\n",
              "       [1., 1., 1., 1.],\n",
              "       [1., 1., 1., 1.]])"
            ]
          },
          "metadata": {},
          "execution_count": 24
        }
      ]
    },
    {
      "cell_type": "code",
      "source": [
        "B = np.pad(A, pad_width=1)\n",
        "B"
      ],
      "metadata": {
        "colab": {
          "base_uri": "https://localhost:8080/"
        },
        "id": "ZtlskUoEs83G",
        "outputId": "0ee40d7c-7ca3-45fe-9999-935556478538"
      },
      "execution_count": 26,
      "outputs": [
        {
          "output_type": "execute_result",
          "data": {
            "text/plain": [
              "array([[0., 0., 0., 0., 0., 0.],\n",
              "       [0., 1., 1., 1., 1., 0.],\n",
              "       [0., 1., 1., 1., 1., 0.],\n",
              "       [0., 1., 1., 1., 1., 0.],\n",
              "       [0., 1., 1., 1., 1., 0.],\n",
              "       [0., 0., 0., 0., 0., 0.]])"
            ]
          },
          "metadata": {},
          "execution_count": 26
        }
      ]
    },
    {
      "cell_type": "markdown",
      "source": [
        "### **Exercise 26**\n",
        "\n",
        "Transform the following array\n",
        "\n",
        "[[ 0, 0, 0, 0, 0, 0],<br>\n",
        "[ 0, 0, 0, 0, 0, 0],<br>\n",
        "[ 0, 0, 0, 0, 0, 0],<br>\n",
        "[ 0, 0, 0, 0, 0, 0],<br>\n",
        "[ 0, 0, 0, 0, 0, 0],<br>\n",
        "[ 0, 0, 0, 0, 0, 0]] <br>\n",
        "\n",
        "To the following array\n",
        "\n",
        "[[10, 0, 10, 0, 10, 0],<br>\n",
        "[ 5, 0, 5, 0, 5, 0],<br>\n",
        "[ 10, 0, 10, 0, 10, 0],<br>\n",
        "[ 5, 0, 5, 0, 5, 0],<br>\n",
        "[ 10, 0, 10, 0, 10, 0],<br>\n",
        "[ 5, 0, 5, 0, 5, 0]] <br>\n"
      ],
      "metadata": {
        "id": "LhsMTq1L1dY6"
      }
    },
    {
      "cell_type": "code",
      "source": [
        "A = np.zeros(shape=(6,6))\n",
        "A"
      ],
      "metadata": {
        "colab": {
          "base_uri": "https://localhost:8080/"
        },
        "id": "E-yBJfQC4bji",
        "outputId": "8d5a8b58-54e4-4644-b8a8-bea1e544c36a"
      },
      "execution_count": 27,
      "outputs": [
        {
          "output_type": "execute_result",
          "data": {
            "text/plain": [
              "array([[0., 0., 0., 0., 0., 0.],\n",
              "       [0., 0., 0., 0., 0., 0.],\n",
              "       [0., 0., 0., 0., 0., 0.],\n",
              "       [0., 0., 0., 0., 0., 0.],\n",
              "       [0., 0., 0., 0., 0., 0.],\n",
              "       [0., 0., 0., 0., 0., 0.]])"
            ]
          },
          "metadata": {},
          "execution_count": 27
        }
      ]
    },
    {
      "cell_type": "code",
      "source": [
        "A[::2, ::2] = 10  #row_start::row_interval, column_start::column_interval\n",
        "A[1::2, ::2] = 5\n",
        "A"
      ],
      "metadata": {
        "colab": {
          "base_uri": "https://localhost:8080/"
        },
        "id": "bXnDxQEn46s6",
        "outputId": "74f61f57-e9cb-4a5d-e38f-a14d13dcd28c"
      },
      "execution_count": 31,
      "outputs": [
        {
          "output_type": "execute_result",
          "data": {
            "text/plain": [
              "array([[10.,  0., 10.,  0., 10.,  0.],\n",
              "       [ 5.,  0.,  5.,  0.,  5.,  0.],\n",
              "       [10.,  0., 10.,  0., 10.,  0.],\n",
              "       [ 5.,  0.,  5.,  0.,  5.,  0.],\n",
              "       [10.,  0., 10.,  0., 10.,  0.],\n",
              "       [ 5.,  0.,  5.,  0.,  5.,  0.]])"
            ]
          },
          "metadata": {},
          "execution_count": 31
        }
      ]
    },
    {
      "cell_type": "markdown",
      "source": [
        "[Slicing](https://regenerativetoday.com/indexing-and-slicing-of-1d-2d-and-3d-arrays-using-numpy/)"
      ],
      "metadata": {
        "id": "PxCF6GYA7YNj"
      }
    },
    {
      "cell_type": "markdown",
      "source": [
        "### **Exercise 27**\n",
        "\n",
        "Combine the following arrays into one.\n",
        "\n",
        "1. np.arange(12).reshape(-1, 4)\n",
        "2. [[ 4,  3,  7,  2],<br>[ 0,  5,  2,  6],<br>"
      ],
      "metadata": {
        "id": "k64OkHqo7g2v"
      }
    },
    {
      "cell_type": "code",
      "source": [
        "A = np.arange(12).reshape(3, 4)\n",
        "A"
      ],
      "metadata": {
        "colab": {
          "base_uri": "https://localhost:8080/"
        },
        "id": "KJ7Qe8V6_tov",
        "outputId": "96031269-0dd6-4779-b567-c2825e997d8b"
      },
      "execution_count": 36,
      "outputs": [
        {
          "output_type": "execute_result",
          "data": {
            "text/plain": [
              "array([[ 0,  1,  2,  3],\n",
              "       [ 4,  5,  6,  7],\n",
              "       [ 8,  9, 10, 11]])"
            ]
          },
          "metadata": {},
          "execution_count": 36
        }
      ]
    },
    {
      "cell_type": "code",
      "source": [
        "B = np.array([[4, 3, 7, 2],\n",
        "             [0, 5, 2, 6]])\n",
        "B"
      ],
      "metadata": {
        "colab": {
          "base_uri": "https://localhost:8080/"
        },
        "id": "Gelnc7XWAUcw",
        "outputId": "ab6a37ba-2b6f-41f1-fd7c-4c154eb1e24a"
      },
      "execution_count": 37,
      "outputs": [
        {
          "output_type": "execute_result",
          "data": {
            "text/plain": [
              "array([[4, 3, 7, 2],\n",
              "       [0, 5, 2, 6]])"
            ]
          },
          "metadata": {},
          "execution_count": 37
        }
      ]
    },
    {
      "cell_type": "code",
      "source": [
        "C = np.append(A, B, axis=0)\n",
        "C"
      ],
      "metadata": {
        "colab": {
          "base_uri": "https://localhost:8080/"
        },
        "id": "Yf6FL-UaAnFq",
        "outputId": "e1d00d13-fe1e-448b-b5fe-cdd64b9e9210"
      },
      "execution_count": 40,
      "outputs": [
        {
          "output_type": "execute_result",
          "data": {
            "text/plain": [
              "array([[ 0,  1,  2,  3],\n",
              "       [ 4,  5,  6,  7],\n",
              "       [ 8,  9, 10, 11],\n",
              "       [ 4,  3,  7,  2],\n",
              "       [ 0,  5,  2,  6]])"
            ]
          },
          "metadata": {},
          "execution_count": 40
        }
      ]
    },
    {
      "cell_type": "markdown",
      "source": [
        "### **Exercise 28**\n",
        "\n",
        "\n",
        "Consider the following two arrays.\n",
        "\n",
        "1. np.arange(8).reshape(-1, 4)\n",
        "2. [[ 9,  10,  11,  3],<br>[ 2,  8,  0,  9],<br>\n",
        "\n",
        "Extract the same elements (intersection) of the arrays"
      ],
      "metadata": {
        "id": "eHibddUSBFcS"
      }
    },
    {
      "cell_type": "code",
      "source": [
        "A = np.arange(8).reshape(-1, 4)\n",
        "A"
      ],
      "metadata": {
        "colab": {
          "base_uri": "https://localhost:8080/"
        },
        "id": "88US8fLAD934",
        "outputId": "371e543f-a4e8-4a41-f600-221457a553d2"
      },
      "execution_count": 45,
      "outputs": [
        {
          "output_type": "execute_result",
          "data": {
            "text/plain": [
              "array([[0, 1, 2, 3],\n",
              "       [4, 5, 6, 7]])"
            ]
          },
          "metadata": {},
          "execution_count": 45
        }
      ]
    },
    {
      "cell_type": "code",
      "source": [
        "B = np.array([[9, 10, 11, 3],\n",
        "             [2, 8, 0, 9]])\n",
        "B"
      ],
      "metadata": {
        "colab": {
          "base_uri": "https://localhost:8080/"
        },
        "id": "bOArgcCLEC54",
        "outputId": "824da58d-269e-43ac-977c-8d057b1401a5"
      },
      "execution_count": 46,
      "outputs": [
        {
          "output_type": "execute_result",
          "data": {
            "text/plain": [
              "array([[ 9, 10, 11,  3],\n",
              "       [ 2,  8,  0,  9]])"
            ]
          },
          "metadata": {},
          "execution_count": 46
        }
      ]
    },
    {
      "cell_type": "code",
      "source": [
        "np.intersect1d(A, B)"
      ],
      "metadata": {
        "colab": {
          "base_uri": "https://localhost:8080/"
        },
        "id": "JIzfSQd1EckT",
        "outputId": "694f72e5-57e9-4936-e564-1d0357201551"
      },
      "execution_count": 47,
      "outputs": [
        {
          "output_type": "execute_result",
          "data": {
            "text/plain": [
              "array([0, 2, 3])"
            ]
          },
          "metadata": {},
          "execution_count": 47
        }
      ]
    },
    {
      "cell_type": "markdown",
      "source": [
        "### **Exercise 29**\n",
        "\n",
        "Consider the following array\n",
        "\n",
        "[[5, 1, 2, 1, 2],<br>\n",
        "[9, 1, 9, 7, 5],<br>\n",
        "[4, 1, 5, 7, 9]]\n",
        "\n",
        "Extract all unique values of this array"
      ],
      "metadata": {
        "id": "kgFMlcwqHC8D"
      }
    },
    {
      "cell_type": "code",
      "source": [
        "A = np.random.randint(low=1, high=10, size=(3, 5))"
      ],
      "metadata": {
        "id": "mO6m_K77QXPd"
      },
      "execution_count": 50,
      "outputs": []
    },
    {
      "cell_type": "code",
      "source": [
        "A = np.array([[5, 1, 2, 1, 2],\n",
        "              [9, 1, 9, 7, 5],\n",
        "              [4, 1, 5, 7, 9]])"
      ],
      "metadata": {
        "id": "8jjsDrbPP-U2"
      },
      "execution_count": 52,
      "outputs": []
    },
    {
      "cell_type": "code",
      "source": [
        "np.unique(A)"
      ],
      "metadata": {
        "colab": {
          "base_uri": "https://localhost:8080/"
        },
        "id": "atGqfKWqQBZj",
        "outputId": "76118847-35d1-4eda-9645-7bb812880a58"
      },
      "execution_count": 53,
      "outputs": [
        {
          "output_type": "execute_result",
          "data": {
            "text/plain": [
              "array([1, 2, 4, 5, 7, 9])"
            ]
          },
          "metadata": {},
          "execution_count": 53
        }
      ]
    },
    {
      "cell_type": "markdown",
      "source": [
        "### **Exercise 30**\n",
        "\n",
        "Consider the following array\n",
        "\n",
        "[[0.4, 0.3, 0.3],<br>\n",
        "[0.1, 0.1, 0.8],<br>\n",
        "[0.2, 0.5, 0.3]]\n",
        "\n",
        "Return a list of indexes with maximum values for each **row** from this array"
      ],
      "metadata": {
        "id": "iyNhhxDEQc1V"
      }
    },
    {
      "cell_type": "code",
      "source": [
        "A = np.array([[0.4, 0.3, 0.3],\n",
        "              [0.1, 0.1, 0.8],\n",
        "              [0.2, 0.5, 0.3]])"
      ],
      "metadata": {
        "id": "Jl2e3l8iQz6w"
      },
      "execution_count": 56,
      "outputs": []
    },
    {
      "cell_type": "code",
      "source": [
        "np.argmax(A, axis=1)"
      ],
      "metadata": {
        "colab": {
          "base_uri": "https://localhost:8080/"
        },
        "id": "74HDZtLwQ3GP",
        "outputId": "631ae65e-1d11-42a3-b1e2-dabf18865dd4"
      },
      "execution_count": 61,
      "outputs": [
        {
          "output_type": "execute_result",
          "data": {
            "text/plain": [
              "array([0, 2, 1])"
            ]
          },
          "metadata": {},
          "execution_count": 61
        }
      ]
    }
  ]
}