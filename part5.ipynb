{
  "nbformat": 4,
  "nbformat_minor": 0,
  "metadata": {
    "colab": {
      "provenance": [],
      "collapsed_sections": []
    },
    "kernelspec": {
      "name": "python3",
      "display_name": "Python 3"
    },
    "language_info": {
      "name": "python"
    }
  },
  "cells": [
    {
      "cell_type": "markdown",
      "source": [
        "# <u>**Part 5**<u>"
      ],
      "metadata": {
        "id": "XA4-qhiZLX5v"
      }
    },
    {
      "cell_type": "code",
      "execution_count": 3,
      "metadata": {
        "id": "f3MgTSmZLVh2"
      },
      "outputs": [],
      "source": [
        "import numpy as np"
      ]
    },
    {
      "cell_type": "markdown",
      "source": [
        "### **Exercise 41**\n",
        "\n",
        "The following array is given\n",
        "\n",
        "[[4, 2, 1],<br>\n",
        "[6, 4, 2]],<br>\n",
        "\n",
        "Expand this array by one dimension (add a new dimension at the beginning). Expected shape of the output array: (1, 2, 3).\n",
        "\n"
      ],
      "metadata": {
        "id": "lIoAcLgPLl86"
      }
    },
    {
      "cell_type": "code",
      "source": [
        "A = np.array([[4, 2, 1],\n",
        "              [6, 4, 2],\n",
        "            ])\n",
        "A"
      ],
      "metadata": {
        "colab": {
          "base_uri": "https://localhost:8080/"
        },
        "id": "vvuKuWLxLlT_",
        "outputId": "41f28948-5e2a-4c8c-a163-7ff30b935bab"
      },
      "execution_count": null,
      "outputs": [
        {
          "output_type": "execute_result",
          "data": {
            "text/plain": [
              "array([[4, 2, 1],\n",
              "       [6, 4, 2]])"
            ]
          },
          "metadata": {},
          "execution_count": 3
        }
      ]
    },
    {
      "cell_type": "code",
      "source": [
        "B = np.expand_dims(A, axis=0)\n",
        "B"
      ],
      "metadata": {
        "colab": {
          "base_uri": "https://localhost:8080/"
        },
        "id": "UkPnnPdFMWL9",
        "outputId": "ff01e32b-e84a-49c2-bcc7-1cb0409e1ac5"
      },
      "execution_count": null,
      "outputs": [
        {
          "output_type": "execute_result",
          "data": {
            "text/plain": [
              "array([[[4, 2, 1],\n",
              "        [6, 4, 2]]])"
            ]
          },
          "metadata": {},
          "execution_count": 4
        }
      ]
    },
    {
      "cell_type": "markdown",
      "source": [
        "### **Exercise 42**\n",
        "\n",
        "Using Numpy create a three-dimensional array called image with shape (200, 300, 3) filled with random values from 0 to 255 (inclusive) and data type np.uint8. Set random seed to 42."
      ],
      "metadata": {
        "id": "OrKmh-xYMyD7"
      }
    },
    {
      "cell_type": "code",
      "source": [
        "np.random.seed(42)\n",
        "\n",
        "image = np.random.randint(low = 0,\n",
        "                          high=256,\n",
        "                          size = (200, 300, 3),\n",
        "                          dtype=np.uint8\n",
        "\n",
        ")\n",
        "\n",
        "image"
      ],
      "metadata": {
        "colab": {
          "base_uri": "https://localhost:8080/"
        },
        "id": "ZIWHQvIHNrvv",
        "outputId": "2513da46-f232-4f4b-e38c-76a625e07ba1"
      },
      "execution_count": 2,
      "outputs": [
        {
          "output_type": "execute_result",
          "data": {
            "text/plain": [
              "array([[[102, 220, 225],\n",
              "        [ 95, 179,  61],\n",
              "        [234, 203,  92],\n",
              "        ...,\n",
              "        [ 41,  27,  87],\n",
              "        [102, 225,  65],\n",
              "        [170,   0, 238]],\n",
              "\n",
              "       [[169, 170, 213],\n",
              "        [159,  44, 250],\n",
              "        [224, 206,  61],\n",
              "        ...,\n",
              "        [162, 118,  77],\n",
              "        [228,  67,  21],\n",
              "        [ 68,  30,  64]],\n",
              "\n",
              "       [[237,  26, 118],\n",
              "        [ 62, 157, 198],\n",
              "        [  1, 151,  37],\n",
              "        ...,\n",
              "        [218, 189,  51],\n",
              "        [193, 250, 243],\n",
              "        [235,  34, 180]],\n",
              "\n",
              "       ...,\n",
              "\n",
              "       [[116, 102, 228],\n",
              "        [ 29,  75,  71],\n",
              "        [156, 133,  53],\n",
              "        ...,\n",
              "        [ 93,  45,  68],\n",
              "        [124, 238,  76],\n",
              "        [184, 185, 202]],\n",
              "\n",
              "       [[216, 202, 116],\n",
              "        [146, 168, 132],\n",
              "        [236,  80,  45],\n",
              "        ...,\n",
              "        [169, 145, 212],\n",
              "        [123,  50,  70],\n",
              "        [ 11,  43,  62]],\n",
              "\n",
              "       [[ 32,  52,  65],\n",
              "        [155,   2,  86],\n",
              "        [ 83, 240,  27],\n",
              "        ...,\n",
              "        [ 30,  57, 175],\n",
              "        [ 72,  83, 171],\n",
              "        [ 40, 114, 195]]], dtype=uint8)"
            ]
          },
          "metadata": {},
          "execution_count": 2
        }
      ]
    },
    {
      "cell_type": "markdown",
      "source": [
        "### **Exercise 43**\n",
        "\n",
        "The following array is given\n",
        "\n",
        "image = np.random.randint(low=0, high=256, size=(200, 300, 3), dtype=np.uint8)\n",
        "\n",
        "Extend this array by one dimension (add a new dimension at the beginning) and assign to image_extended variable. Expected shape of this array is (1, 200, 300, 3)."
      ],
      "metadata": {
        "id": "R6w6YjETQV91"
      }
    },
    {
      "cell_type": "code",
      "source": [
        "image = np.random.randint(low=0, high=256, size=(200, 300, 3), dtype=np.uint8)\n",
        "\n",
        "image_extended = np.expand_dims(image, axis=0)\n",
        "print(image.shape)\n",
        "print(image_extended.shape)"
      ],
      "metadata": {
        "colab": {
          "base_uri": "https://localhost:8080/"
        },
        "id": "VxdAO8XaN31x",
        "outputId": "59ceea64-4c78-4f1c-df95-ed03d5ea9d89"
      },
      "execution_count": 5,
      "outputs": [
        {
          "output_type": "stream",
          "name": "stdout",
          "text": [
            "(200, 300, 3)\n",
            "(1, 200, 300, 3)\n"
          ]
        }
      ]
    },
    {
      "cell_type": "markdown",
      "source": [
        "### **Exercise 44**\n",
        "\n",
        "Two randomly generated arrays are given\n",
        "\n",
        "image1 = np.random.randint(low=0, high=256, size=(200, 300, 3), dtype=np.uint8)\n",
        "\n",
        "image2 = np.random.randint(low=0, high=256, size=(200, 300, 3), dtype=np.uint8)\n",
        "\n",
        "Expand each of these arrays by adding one dimension at the beginning and then combine these arrays into one called images. Expected shape of images array: (2, 200, 300, 3).\n",
        "\n"
      ],
      "metadata": {
        "id": "-CSmMucTQ0QQ"
      }
    },
    {
      "cell_type": "code",
      "source": [
        "image1 = np.random.randint(low=0, high=256, size=(200, 300, 3), dtype=np.uint8)\n",
        "image2 = np.random.randint(low=0, high=256, size=(200, 300, 3), dtype=np.uint8)\n",
        "\n",
        "image1_ext = np.expand_dims(image1, axis=0)\n",
        "image2_ext = np.expand_dims(image2, axis=0)\n",
        "\n",
        "images = np.concatenate((image1_ext, image2_ext), axis=0)\n",
        "\n",
        "print(image1_ext.shape)\n",
        "print(image2_ext.shape)\n",
        "print(images.shape)"
      ],
      "metadata": {
        "colab": {
          "base_uri": "https://localhost:8080/"
        },
        "id": "sqRjd5itRTgC",
        "outputId": "a641e849-1c8d-4019-8a2d-ee292b958436"
      },
      "execution_count": 7,
      "outputs": [
        {
          "output_type": "stream",
          "name": "stdout",
          "text": [
            "(1, 200, 300, 3)\n",
            "(1, 200, 300, 3)\n",
            "(2, 200, 300, 3)\n"
          ]
        }
      ]
    },
    {
      "cell_type": "markdown",
      "source": [
        "### **Exercise 45**\n",
        "\n",
        "[[[1, 2, 3],<br>\n",
        "[6, 3, 2]]]\n",
        "\n",
        "Shape of this array is (1, 2, 3). Remove the unnecessary first dimension and extract the (2, 3) array"
      ],
      "metadata": {
        "id": "gjNCIegjTMwN"
      }
    },
    {
      "cell_type": "code",
      "source": [
        "A = np.array([[[1, 2, 3],\n",
        "               [6, 3, 2]]])\n",
        "\n",
        "B = np.squeeze(A, axis=0)\n",
        "print(A.shape)\n",
        "print(B.shape)"
      ],
      "metadata": {
        "colab": {
          "base_uri": "https://localhost:8080/"
        },
        "id": "cftfID0RTiT6",
        "outputId": "2788d799-bc61-44bb-f7a2-b83d408c354d"
      },
      "execution_count": 9,
      "outputs": [
        {
          "output_type": "stream",
          "name": "stdout",
          "text": [
            "(1, 2, 3)\n",
            "(2, 3)\n"
          ]
        }
      ]
    },
    {
      "cell_type": "markdown",
      "source": [
        "### **Exercise 46**\n",
        "\n",
        "The following array is given\n",
        "\n",
        "[[0.4], <br>\n",
        "[0.9], <br>\n",
        "[0.5], <br>\n",
        "[0.6]] <br>\n",
        "\n",
        "Shape of this array is (4, 1). Remove the unnecessary dimension and extract (4, ) array and print result to the console.\n",
        "\n"
      ],
      "metadata": {
        "id": "5G11ThIHVENr"
      }
    },
    {
      "cell_type": "code",
      "source": [
        "A = np.array([[0.4],\n",
        "              [0.9],\n",
        "              [0.5],\n",
        "              [0.6]])\n",
        "\n",
        "B=np.squeeze(A, axis=1)\n",
        "print(A.shape)\n",
        "print(B.shape)"
      ],
      "metadata": {
        "colab": {
          "base_uri": "https://localhost:8080/"
        },
        "id": "TacMI_L0VDcW",
        "outputId": "f8372adc-2f71-4ee0-d6ca-9275979af46b"
      },
      "execution_count": 10,
      "outputs": [
        {
          "output_type": "stream",
          "name": "stdout",
          "text": [
            "(4, 1)\n",
            "(4,)\n"
          ]
        }
      ]
    },
    {
      "cell_type": "markdown",
      "source": [
        "### **Exercise 47**\n",
        "\n",
        "The following array is given\n",
        "\n",
        "[[ 0,  1,  2,  3], <br>\n",
        "[ 4,  5,  6,  7], <br>\n",
        "[ 8,  9, 10, 11]] <br>\n",
        "\n",
        "Using the slice operator, transform this array into the following\n",
        "\n",
        "[[ 3,  2,  1,  0], <br>\n",
        "[ 7,  6,  5,  4], <br>\n",
        "[11, 10,  9,  8]] <br>"
      ],
      "metadata": {
        "id": "sC0jg_2IXGsn"
      }
    },
    {
      "cell_type": "code",
      "source": [
        "A = np.arange(12, dtype='int').reshape(-1, 4)\n",
        "A"
      ],
      "metadata": {
        "colab": {
          "base_uri": "https://localhost:8080/"
        },
        "id": "B7Hu2EHDW84f",
        "outputId": "94c4f73d-6fd5-4f69-c387-fe0485f8c52d"
      },
      "execution_count": 4,
      "outputs": [
        {
          "output_type": "execute_result",
          "data": {
            "text/plain": [
              "array([[ 0,  1,  2,  3],\n",
              "       [ 4,  5,  6,  7],\n",
              "       [ 8,  9, 10, 11]])"
            ]
          },
          "metadata": {},
          "execution_count": 4
        }
      ]
    },
    {
      "cell_type": "code",
      "source": [
        "A[:, ::-1]"
      ],
      "metadata": {
        "colab": {
          "base_uri": "https://localhost:8080/"
        },
        "id": "_VejlOBOXzar",
        "outputId": "a3eecf86-a828-468b-cecc-fb29b9db92e5"
      },
      "execution_count": 5,
      "outputs": [
        {
          "output_type": "execute_result",
          "data": {
            "text/plain": [
              "array([[ 3,  2,  1,  0],\n",
              "       [ 7,  6,  5,  4],\n",
              "       [11, 10,  9,  8]])"
            ]
          },
          "metadata": {},
          "execution_count": 5
        }
      ]
    },
    {
      "cell_type": "markdown",
      "source": [
        "### **Exercise 48**\n",
        "\n",
        "The following array is given\n",
        "\n",
        "[[ 0,  1,  2,  3], <br>\n",
        "[ 4,  5,  6,  7], <br>\n",
        "[ 8,  9, 10, 11]] <br>\n",
        "\n",
        "Using the slice operator, transform this array into the following\n",
        "\n",
        "[[ 11,  10,  9,  8], <br>\n",
        "[ 7,  6,  5,  4], <br>\n",
        "[3, 2,  1,  0]] <br>"
      ],
      "metadata": {
        "id": "fPVAU3cD8lsC"
      }
    },
    {
      "cell_type": "code",
      "source": [
        "A = np.arange(12, dtype='int').reshape(-1, 4)\n",
        "A"
      ],
      "metadata": {
        "colab": {
          "base_uri": "https://localhost:8080/"
        },
        "id": "bS-sAYm8_U1F",
        "outputId": "d86de659-d85b-4368-8e9b-713d6c2dc1ec"
      },
      "execution_count": 6,
      "outputs": [
        {
          "output_type": "execute_result",
          "data": {
            "text/plain": [
              "array([[ 0,  1,  2,  3],\n",
              "       [ 4,  5,  6,  7],\n",
              "       [ 8,  9, 10, 11]])"
            ]
          },
          "metadata": {},
          "execution_count": 6
        }
      ]
    },
    {
      "cell_type": "code",
      "source": [
        "A[::-1, ::-1]"
      ],
      "metadata": {
        "colab": {
          "base_uri": "https://localhost:8080/"
        },
        "id": "wHwKKIv8_vp_",
        "outputId": "a557f3b9-f9fe-48af-910b-37a65016a586"
      },
      "execution_count": 8,
      "outputs": [
        {
          "output_type": "execute_result",
          "data": {
            "text/plain": [
              "array([[11, 10,  9,  8],\n",
              "       [ 7,  6,  5,  4],\n",
              "       [ 3,  2,  1,  0]])"
            ]
          },
          "metadata": {},
          "execution_count": 8
        }
      ]
    },
    {
      "cell_type": "markdown",
      "source": [
        "### **Exercise 49**\n",
        "\n",
        "Random seed is set to 42. The following array is given:\n",
        "\n",
        "image = np.random.randint(low=0, high=256, size=(10, 10, 3), dtype=np.uint8)\n",
        "\n",
        "Extract the first channel (index 0) of this image array and print it to the console."
      ],
      "metadata": {
        "id": "oCXtWiVJAyC-"
      }
    },
    {
      "cell_type": "code",
      "source": [
        "np.random.seed(42)\n",
        "image = np.random.randint(low=0, high=256, size=(10, 10, 3), dtype=np.uint8)\n",
        "\n",
        "print(image)\n",
        "\n",
        "print(image[:, :, 0])"
      ],
      "metadata": {
        "colab": {
          "base_uri": "https://localhost:8080/"
        },
        "id": "-IPOo22UA6y8",
        "outputId": "1b35636d-9513-4848-ed34-ca958e7a4748"
      },
      "execution_count": 11,
      "outputs": [
        {
          "output_type": "stream",
          "name": "stdout",
          "text": [
            "[[[102 220 225]\n",
            "  [ 95 179  61]\n",
            "  [234 203  92]\n",
            "  [  3  98 243]\n",
            "  [ 14 149 245]\n",
            "  [ 46 106 244]\n",
            "  [ 99 187  71]\n",
            "  [212 153 199]\n",
            "  [188 174  65]\n",
            "  [153  20  44]]\n",
            "\n",
            " [[203 152 102]\n",
            "  [214 240  39]\n",
            "  [121  24  34]\n",
            "  [114 210  65]\n",
            "  [239  39 214]\n",
            "  [244 151  25]\n",
            "  [ 74 145 222]\n",
            "  [ 14 202  85]\n",
            "  [145 117  87]\n",
            "  [184 189 221]]\n",
            "\n",
            " [[116 237 109]\n",
            "  [ 85  99 172]\n",
            "  [226 153 103]\n",
            "  [235 146  36]\n",
            "  [151  62  68]\n",
            "  [181 130 160]\n",
            "  [160 166 149]\n",
            "  [  6  69   5]\n",
            "  [ 52 253 112]\n",
            "  [ 14   1   3]]\n",
            "\n",
            " [[ 76 248  87]\n",
            "  [233 212 184]\n",
            "  [235 245  26]\n",
            "  [213 157 253]\n",
            "  [ 68 240  37]\n",
            "  [219  91  54]\n",
            "  [129   9  51]\n",
            "  [  0 191  20]\n",
            "  [140  46 187]\n",
            "  [147   1 254]]\n",
            "\n",
            " [[ 20 153 243]\n",
            "  [ 46 160  68]\n",
            "  [ 19 158 203]\n",
            "  [209 226  77]\n",
            "  [ 57  77 149]\n",
            "  [156  21 112]\n",
            "  [ 86 134 252]\n",
            "  [ 24 207   1]\n",
            "  [235 242 147]\n",
            "  [110  88 107]]\n",
            "\n",
            " [[231   5  48]\n",
            "  [254 141  74]\n",
            "  [218 161  87]\n",
            "  [134  58 100]\n",
            "  [162 156 254]\n",
            "  [ 73  93 102]\n",
            "  [169 222 181]\n",
            "  [ 35 255  71]\n",
            "  [242  11 219]\n",
            "  [253 201  74]]\n",
            "\n",
            " [[187  10  72]\n",
            "  [249 207 227]\n",
            "  [201  93  14]\n",
            "  [231 150  59]\n",
            "  [189   0 193]\n",
            "  [116 189 251]\n",
            "  [ 49  23 174]\n",
            "  [ 74   1 201]\n",
            "  [189 139  78]\n",
            "  [158  50 210]]\n",
            "\n",
            " [[ 29  51 107]\n",
            "  [  7 233  97]\n",
            "  [ 54 222 164]\n",
            "  [131 243   4]\n",
            "  [181 251  63]\n",
            "  [123 168 151]\n",
            "  [248 197 125]\n",
            "  [119 130  44]\n",
            "  [228  11 228]\n",
            "  [ 13  37 220]]\n",
            "\n",
            " [[ 50  15 136]\n",
            "  [155 134 162]\n",
            "  [ 40 174  20]\n",
            "  [120 167  43]\n",
            "  [ 72 235  83]\n",
            "  [115 166  56]\n",
            "  [167  16  17]\n",
            "  [ 85 101   3]\n",
            "  [131  41 234]\n",
            "  [242  88  34]]\n",
            "\n",
            " [[ 52 241  59]\n",
            "  [169  51 247]\n",
            "  [ 13 168  51]\n",
            "  [144 241  32]\n",
            "  [243 206 249]\n",
            "  [167 170  98]\n",
            "  [  8  43 251]\n",
            "  [ 77  89  93]\n",
            "  [ 22   4  52]\n",
            "  [ 10   1  25]]]\n",
            "[[102  95 234   3  14  46  99 212 188 153]\n",
            " [203 214 121 114 239 244  74  14 145 184]\n",
            " [116  85 226 235 151 181 160   6  52  14]\n",
            " [ 76 233 235 213  68 219 129   0 140 147]\n",
            " [ 20  46  19 209  57 156  86  24 235 110]\n",
            " [231 254 218 134 162  73 169  35 242 253]\n",
            " [187 249 201 231 189 116  49  74 189 158]\n",
            " [ 29   7  54 131 181 123 248 119 228  13]\n",
            " [ 50 155  40 120  72 115 167  85 131 242]\n",
            " [ 52 169  13 144 243 167   8  77  22  10]]\n"
          ]
        }
      ]
    },
    {
      "cell_type": "markdown",
      "source": [
        "### **Exercise 50**\n",
        "\n",
        "The following array is given\n",
        "\n",
        "image = np.random.randint(low=0, high=256, size=(10, 10, 3), dtype=np.uint8)\n",
        "\n",
        "Extract any array of shape (5, 5, 3) from this array and assign to the result variable.\n",
        "\n"
      ],
      "metadata": {
        "id": "EnhF9fq3Bhl3"
      }
    },
    {
      "cell_type": "code",
      "source": [
        "image = np.random.randint(low=0, high=256, size=(10, 10, 3), dtype=np.uint8)\n",
        "result = image[:5, :5, :]\n",
        "result"
      ],
      "metadata": {
        "colab": {
          "base_uri": "https://localhost:8080/"
        },
        "id": "Hwp56UGnB5kA",
        "outputId": "e5fc7178-e0c1-4249-b0b2-dd249c4493de"
      },
      "execution_count": 17,
      "outputs": [
        {
          "output_type": "execute_result",
          "data": {
            "text/plain": [
              "array([[[ 28, 210, 251],\n",
              "        [ 51,  35, 132],\n",
              "        [146,  58,  12],\n",
              "        [218,  94, 241],\n",
              "        [159, 244, 180]],\n",
              "\n",
              "       [[ 69,  41,  27],\n",
              "        [ 87, 102, 225],\n",
              "        [ 65, 170,   0],\n",
              "        [238, 169, 170],\n",
              "        [213, 159,  44]],\n",
              "\n",
              "       [[133,  10,  24],\n",
              "        [223,  27, 115],\n",
              "        [223, 116,  27],\n",
              "        [116, 189, 205],\n",
              "        [107, 182, 235]],\n",
              "\n",
              "       [[ 30, 226,  74],\n",
              "        [ 85,  18, 138],\n",
              "        [127,  70,   8],\n",
              "        [ 83, 249, 101],\n",
              "        [180, 206, 246]],\n",
              "\n",
              "       [[189, 232,  37],\n",
              "        [232, 224,  92],\n",
              "        [ 44,  28, 128],\n",
              "        [117, 170,  69],\n",
              "        [120, 245,  89]]], dtype=uint8)"
            ]
          },
          "metadata": {},
          "execution_count": 17
        }
      ]
    }
  ]
}