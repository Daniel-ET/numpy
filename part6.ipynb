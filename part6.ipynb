{
  "nbformat": 4,
  "nbformat_minor": 0,
  "metadata": {
    "colab": {
      "provenance": [],
      "collapsed_sections": []
    },
    "kernelspec": {
      "name": "python3",
      "display_name": "Python 3"
    },
    "language_info": {
      "name": "python"
    }
  },
  "cells": [
    {
      "cell_type": "markdown",
      "source": [
        "# <u>**Part 4**\n",
        "\n"
      ],
      "metadata": {
        "id": "Wu-WVgaqgkRx"
      }
    },
    {
      "cell_type": "code",
      "execution_count": 1,
      "metadata": {
        "id": "JX9IyfuIghZj"
      },
      "outputs": [],
      "source": [
        "import numpy as np"
      ]
    },
    {
      "cell_type": "markdown",
      "source": [
        "### **Exercise 51**\n",
        "\n",
        "The following arrays are given:\n",
        "\n",
        "[[3, 4, 5], <br>\n",
        "[8, 3, 1]] <br>\n",
        "\n",
        "[[0, 5, 2], <br>\n",
        "[4, 2, 1]] <br>\n",
        "\n",
        "Concatenate these arrays as follows\n",
        "\n",
        "\n",
        "[[3, 4, 5], <br>\n",
        "[8, 3, 1], <br>\n",
        "[0, 5, 2], <br>\n",
        "[4, 2, 1]] <br>"
      ],
      "metadata": {
        "id": "j2YiNpcqgtGl"
      }
    },
    {
      "cell_type": "code",
      "source": [
        "A = np.array([[3, 4, 5],\n",
        "              [8, 3, 1]])\n",
        "B = np.array([[0, 5 ,2],\n",
        "              [4, 2, 1]])\n",
        "C = np.concatenate((A, B), axis=0)\n",
        "C"
      ],
      "metadata": {
        "colab": {
          "base_uri": "https://localhost:8080/"
        },
        "id": "q9qjSs1mgsXn",
        "outputId": "580af909-8f86-4ae2-9702-218a49c1e753"
      },
      "execution_count": 3,
      "outputs": [
        {
          "output_type": "execute_result",
          "data": {
            "text/plain": [
              "array([[3, 4, 5],\n",
              "       [8, 3, 1],\n",
              "       [0, 5, 2],\n",
              "       [4, 2, 1]])"
            ]
          },
          "metadata": {},
          "execution_count": 3
        }
      ]
    },
    {
      "cell_type": "markdown",
      "source": [
        "### **Exercise 52**\n",
        "\n",
        "The following arrays are given:\n",
        "\n",
        "[[4.3, 4.2], <br>\n",
        "[3.1, 3.6]] <br>\n",
        "\n",
        "[[0], <br>\n",
        "[1]] <br>\n",
        "\n",
        "Concatenate these arrays as follows\n",
        "\n",
        "[[4.3, 4.2, 0], <br>\n",
        "[3.1, 3.6, 1]] <br>\n"
      ],
      "metadata": {
        "id": "rM63iWJkiJU7"
      }
    },
    {
      "cell_type": "code",
      "source": [
        "data = np.array([[4.3, 4.2],\n",
        "                 [3.1, 3.6]])\n",
        "target = np.array([[0],\n",
        "                   [1]])\n",
        "\n",
        "array = np.concatenate((data, target), axis=1)\n",
        "array"
      ],
      "metadata": {
        "colab": {
          "base_uri": "https://localhost:8080/"
        },
        "id": "zbGg3Lwziqve",
        "outputId": "91195322-c3dc-4f24-9872-2e610d4f962f"
      },
      "execution_count": 7,
      "outputs": [
        {
          "output_type": "execute_result",
          "data": {
            "text/plain": [
              "array([[4.3, 4.2, 0. ],\n",
              "       [3.1, 3.6, 1. ]])"
            ]
          },
          "metadata": {},
          "execution_count": 7
        }
      ]
    },
    {
      "cell_type": "markdown",
      "source": [
        "### **Exercise 53**\n",
        "\n",
        "The following three one-dimensional arrays are given\n",
        "\n",
        "feature1 = np.array([1.6, 0.9, 2.2]) <br>\n",
        "feature2 = np.array([0.4, 1.3, 3.2]) <br>\n",
        "feature3 = np.array([1.4, 0.3, 1.2]) <br>\n",
        "\n",
        "\n",
        "Transform each of these arrays into a column and concatenate them into one array"
      ],
      "metadata": {
        "id": "rUwEOfEin33s"
      }
    },
    {
      "cell_type": "code",
      "source": [
        "feature1 = np.array([1.6, 0.9, 2.2])\n",
        "feature2 = np.array([0.4, 1.3, 3.2])\n",
        "feature3 = np.array([1.4, 0.3, 1.2])"
      ],
      "metadata": {
        "id": "_jvDwIzfoNXG"
      },
      "execution_count": 8,
      "outputs": []
    },
    {
      "cell_type": "code",
      "source": [
        "array = np.column_stack((feature1, feature2, feature3))\n",
        "array"
      ],
      "metadata": {
        "colab": {
          "base_uri": "https://localhost:8080/"
        },
        "id": "-8Sswbd3oUWZ",
        "outputId": "bb2d64bb-4a19-483f-8321-2d249c7cbe61"
      },
      "execution_count": 10,
      "outputs": [
        {
          "output_type": "execute_result",
          "data": {
            "text/plain": [
              "array([[1.6, 0.4, 1.4],\n",
              "       [0.9, 1.3, 0.3],\n",
              "       [2.2, 3.2, 1.2]])"
            ]
          },
          "metadata": {},
          "execution_count": 10
        }
      ]
    },
    {
      "cell_type": "markdown",
      "source": [
        "### **Exercise 54**\n",
        "\n",
        "The following two-dimensional; array is given\n",
        "\n",
        "A = np.random.randint(low=0, high=7, size=(5, 8)) <br>\n",
        "A[ : , : 2] = 0 <br>\n",
        "A[ : , -2 : ] = 1 <br>\n",
        "\n",
        "Split this array into three parts\n",
        "\n",
        "* the first two columns assign to the A1 variable\n",
        "* the next four columns assign to the A2 variable\n",
        "* the last two columns assign to the A3 variable\n",
        "\n"
      ],
      "metadata": {
        "id": "32c4_X2gowYR"
      }
    },
    {
      "cell_type": "code",
      "source": [
        "A = np.random.randint(low=0, high=7, size=(5, 8))\n",
        "print(A, '\\n')\n",
        "\n",
        "A[:, :2] = 0\n",
        "A[:, -2:] = 1\n",
        "print(A)"
      ],
      "metadata": {
        "colab": {
          "base_uri": "https://localhost:8080/"
        },
        "id": "w_xMfIXFov1y",
        "outputId": "84d9270d-c957-496b-eb0f-ccb6812263ba"
      },
      "execution_count": 15,
      "outputs": [
        {
          "output_type": "stream",
          "name": "stdout",
          "text": [
            "[[6 5 5 5 0 6 0 1]\n",
            " [1 3 4 5 3 4 0 2]\n",
            " [1 4 3 0 3 1 3 4]\n",
            " [1 5 6 0 4 4 1 0]\n",
            " [2 3 1 3 0 4 3 5]] \n",
            "\n",
            "[[0 0 5 5 0 6 1 1]\n",
            " [0 0 4 5 3 4 1 1]\n",
            " [0 0 3 0 3 1 1 1]\n",
            " [0 0 6 0 4 4 1 1]\n",
            " [0 0 1 3 0 4 1 1]]\n"
          ]
        }
      ]
    },
    {
      "cell_type": "code",
      "source": [
        "A1, A2, A3 = np.split(A, [2, 6], axis=1)\n",
        "print(A1, '\\n')\n",
        "print(A2, '\\n')\n",
        "print(A3)"
      ],
      "metadata": {
        "colab": {
          "base_uri": "https://localhost:8080/"
        },
        "id": "OsWYGF1OrSjZ",
        "outputId": "0174da95-3d4f-48bd-95ee-e40f076b0523"
      },
      "execution_count": 19,
      "outputs": [
        {
          "output_type": "stream",
          "name": "stdout",
          "text": [
            "[[0 0]\n",
            " [0 0]\n",
            " [0 0]\n",
            " [0 0]\n",
            " [0 0]] \n",
            "\n",
            "[[5 5 0 6]\n",
            " [4 5 3 4]\n",
            " [3 0 3 1]\n",
            " [6 0 4 4]\n",
            " [1 3 0 4]] \n",
            "\n",
            "[[1 1]\n",
            " [1 1]\n",
            " [1 1]\n",
            " [1 1]\n",
            " [1 1]]\n"
          ]
        }
      ]
    },
    {
      "cell_type": "markdown",
      "source": [
        "### **Exercise 55**\n",
        "\n",
        "The following array is given\n",
        "\n",
        "A = np.random.randint(low=0, high=2, size=(10, 6))\n",
        "\n",
        "Calculate the total number of non-zero elements in this array \n",
        "\n"
      ],
      "metadata": {
        "id": "_BX6mCVmu68q"
      }
    },
    {
      "cell_type": "code",
      "source": [
        "A = np.random.randint(low=0, high=2, size=(10, 6))\n",
        "A"
      ],
      "metadata": {
        "colab": {
          "base_uri": "https://localhost:8080/"
        },
        "id": "pnxyvnh6vGSJ",
        "outputId": "e482def2-4808-4e7b-816f-7e5c56a674ce"
      },
      "execution_count": 20,
      "outputs": [
        {
          "output_type": "execute_result",
          "data": {
            "text/plain": [
              "array([[1, 1, 1, 0, 0, 0],\n",
              "       [0, 1, 1, 1, 1, 1],\n",
              "       [1, 1, 1, 0, 1, 1],\n",
              "       [1, 0, 0, 0, 1, 1],\n",
              "       [1, 1, 0, 1, 0, 0],\n",
              "       [1, 0, 0, 0, 0, 1],\n",
              "       [1, 1, 0, 0, 0, 0],\n",
              "       [0, 1, 0, 0, 0, 1],\n",
              "       [1, 1, 1, 0, 0, 1],\n",
              "       [0, 0, 1, 1, 1, 1]])"
            ]
          },
          "metadata": {},
          "execution_count": 20
        }
      ]
    },
    {
      "cell_type": "code",
      "source": [
        "np.count_nonzero(A)"
      ],
      "metadata": {
        "colab": {
          "base_uri": "https://localhost:8080/"
        },
        "id": "UAUYaduFvKxK",
        "outputId": "e6aa8eac-2af7-457f-866b-fcec02003876"
      },
      "execution_count": 21,
      "outputs": [
        {
          "output_type": "execute_result",
          "data": {
            "text/plain": [
              "33"
            ]
          },
          "metadata": {},
          "execution_count": 21
        }
      ]
    },
    {
      "cell_type": "markdown",
      "source": [
        "### **Exercise 56**\n",
        "\n",
        "The following array is given\n",
        "\n",
        "A = np.random.randn(10, 4)\n",
        "\n",
        "et the Numpy option to print arrays with specified precision. Set precision to 4 "
      ],
      "metadata": {
        "id": "AYDhqpT9vYLm"
      }
    },
    {
      "cell_type": "code",
      "source": [
        "A = np.random.randn(10, 4)\n",
        "A"
      ],
      "metadata": {
        "colab": {
          "base_uri": "https://localhost:8080/"
        },
        "id": "j1DbBRMIvoHB",
        "outputId": "b547611e-bebd-4cdc-ae01-4fbdb3d828e9"
      },
      "execution_count": 22,
      "outputs": [
        {
          "output_type": "execute_result",
          "data": {
            "text/plain": [
              "array([[ 1.17478141, -1.03716834,  1.0383098 , -1.55080417],\n",
              "       [ 0.35721789,  0.15338539,  0.67977974, -0.50418884],\n",
              "       [ 0.72290838,  0.81502844,  1.55614598, -1.35648069],\n",
              "       [ 0.18460702, -1.64940507, -0.94999192, -0.79193539],\n",
              "       [-0.15811914,  0.05012464, -1.23241752,  2.09163225],\n",
              "       [ 1.1873796 , -0.14790566,  0.10270535,  0.11360901],\n",
              "       [-0.64917488,  0.78811096, -0.51585354,  0.25017288],\n",
              "       [-0.8591383 , -0.70262666, -1.17930498, -0.58675023],\n",
              "       [ 0.79840018,  1.87487128,  0.44105699,  1.48134764],\n",
              "       [-0.35245133,  0.82849536,  0.07488328,  0.34153557]])"
            ]
          },
          "metadata": {},
          "execution_count": 22
        }
      ]
    },
    {
      "cell_type": "code",
      "source": [
        "np.set_printoptions(precision=4)\n",
        "A"
      ],
      "metadata": {
        "colab": {
          "base_uri": "https://localhost:8080/"
        },
        "id": "cuYoXFafvrml",
        "outputId": "643f755d-75a0-4c8f-f158-7a27a091e1dc"
      },
      "execution_count": 23,
      "outputs": [
        {
          "output_type": "execute_result",
          "data": {
            "text/plain": [
              "array([[ 1.1748, -1.0372,  1.0383, -1.5508],\n",
              "       [ 0.3572,  0.1534,  0.6798, -0.5042],\n",
              "       [ 0.7229,  0.815 ,  1.5561, -1.3565],\n",
              "       [ 0.1846, -1.6494, -0.95  , -0.7919],\n",
              "       [-0.1581,  0.0501, -1.2324,  2.0916],\n",
              "       [ 1.1874, -0.1479,  0.1027,  0.1136],\n",
              "       [-0.6492,  0.7881, -0.5159,  0.2502],\n",
              "       [-0.8591, -0.7026, -1.1793, -0.5868],\n",
              "       [ 0.7984,  1.8749,  0.4411,  1.4813],\n",
              "       [-0.3525,  0.8285,  0.0749,  0.3415]])"
            ]
          },
          "metadata": {},
          "execution_count": 23
        }
      ]
    },
    {
      "cell_type": "markdown",
      "source": [
        "### **Exercise 57**\n",
        "\n",
        "A = np.array([1.2e-6, 1.7e-7])\n",
        "\n",
        "Set the precision to 8 and also set the appropriate Numpy option to suppress mathematical notation"
      ],
      "metadata": {
        "id": "rQjvgVc0v-Yn"
      }
    },
    {
      "cell_type": "code",
      "source": [
        "A = np.array([1.2e-6, 1.7e-7])\n",
        "A"
      ],
      "metadata": {
        "colab": {
          "base_uri": "https://localhost:8080/"
        },
        "id": "wQd1YYnnwhKr",
        "outputId": "982a4f15-4e9f-42f0-ed49-0099f0e07a85"
      },
      "execution_count": 25,
      "outputs": [
        {
          "output_type": "execute_result",
          "data": {
            "text/plain": [
              "array([1.2e-06, 1.7e-07])"
            ]
          },
          "metadata": {},
          "execution_count": 25
        }
      ]
    },
    {
      "cell_type": "code",
      "source": [
        "np.set_printoptions(precision=8, suppress=True)\n",
        "A"
      ],
      "metadata": {
        "colab": {
          "base_uri": "https://localhost:8080/"
        },
        "id": "rxlbP5vRwphL",
        "outputId": "28fd9c55-dda9-4a0d-8655-45ca54ee2fbc"
      },
      "execution_count": 26,
      "outputs": [
        {
          "output_type": "execute_result",
          "data": {
            "text/plain": [
              "array([0.0000012 , 0.00000017])"
            ]
          },
          "metadata": {},
          "execution_count": 26
        }
      ]
    },
    {
      "cell_type": "markdown",
      "source": [
        "### **Exercise 58**\n",
        "\n",
        "The following array is given\n",
        "\n",
        "A = np.random.rand(8,4)\n",
        "\n",
        "Remove the third column"
      ],
      "metadata": {
        "id": "T1xFXMsExMbV"
      }
    },
    {
      "cell_type": "code",
      "source": [
        "A = np.random.rand(8,4)\n",
        "A"
      ],
      "metadata": {
        "colab": {
          "base_uri": "https://localhost:8080/"
        },
        "id": "UeVxVeQWxkBI",
        "outputId": "c63530fc-83ec-465b-fb61-c35c4a845248"
      },
      "execution_count": 27,
      "outputs": [
        {
          "output_type": "execute_result",
          "data": {
            "text/plain": [
              "array([[0.950898  , 0.12091622, 0.26436229, 0.61524389],\n",
              "       [0.69733367, 0.53510744, 0.49474948, 0.98943005],\n",
              "       [0.42216164, 0.98257555, 0.53633031, 0.55417085],\n",
              "       [0.81023347, 0.11323758, 0.21953893, 0.62224521],\n",
              "       [0.57485074, 0.67754774, 0.37563173, 0.19511608],\n",
              "       [0.27108547, 0.38852531, 0.84655296, 0.76169111],\n",
              "       [0.71142375, 0.81670783, 0.23332228, 0.33654805],\n",
              "       [0.60745296, 0.01210478, 0.10616632, 0.90768713]])"
            ]
          },
          "metadata": {},
          "execution_count": 27
        }
      ]
    },
    {
      "cell_type": "code",
      "source": [
        "B = np.delete(A, [2], axis=1)\n",
        "B"
      ],
      "metadata": {
        "colab": {
          "base_uri": "https://localhost:8080/"
        },
        "id": "UPLj7xInxxCJ",
        "outputId": "2a4320d2-85c4-40e2-c541-65ec0882207e"
      },
      "execution_count": 28,
      "outputs": [
        {
          "output_type": "execute_result",
          "data": {
            "text/plain": [
              "array([[0.950898  , 0.12091622, 0.61524389],\n",
              "       [0.69733367, 0.53510744, 0.98943005],\n",
              "       [0.42216164, 0.98257555, 0.55417085],\n",
              "       [0.81023347, 0.11323758, 0.62224521],\n",
              "       [0.57485074, 0.67754774, 0.19511608],\n",
              "       [0.27108547, 0.38852531, 0.76169111],\n",
              "       [0.71142375, 0.81670783, 0.33654805],\n",
              "       [0.60745296, 0.01210478, 0.90768713]])"
            ]
          },
          "metadata": {},
          "execution_count": 28
        }
      ]
    },
    {
      "cell_type": "markdown",
      "source": [
        "### **Exercise 59**\n",
        "\n",
        "A one-dimensional array v (vector) is given:\n",
        "\n",
        "v = np.array([3, 4, -2])\n",
        "\n",
        "Calculate the norm of this vector.\n",
        "\n"
      ],
      "metadata": {
        "id": "ZkZQbDKKyIm0"
      }
    },
    {
      "cell_type": "code",
      "source": [
        "v = np.array([3, 4, -2])\n",
        "np.linalg.norm(v)"
      ],
      "metadata": {
        "colab": {
          "base_uri": "https://localhost:8080/"
        },
        "id": "3KiKz_052eaK",
        "outputId": "8ca88f23-ac32-414b-d110-e736bc3f3f66"
      },
      "execution_count": 31,
      "outputs": [
        {
          "output_type": "execute_result",
          "data": {
            "text/plain": [
              "5.385164807134504"
            ]
          },
          "metadata": {},
          "execution_count": 31
        }
      ]
    },
    {
      "cell_type": "markdown",
      "source": [
        "### **Exercise 60**\n",
        "\n",
        "The following array is given\n",
        "\n",
        "A = np.random.randint(10, size=(100, 30))\n",
        "\n",
        "Set the Numpy option to print only ten edge elements"
      ],
      "metadata": {
        "id": "_wc_KwUW3By1"
      }
    },
    {
      "cell_type": "code",
      "source": [
        "A = np.random.randint(10, size=(100, 30))\n",
        "A"
      ],
      "metadata": {
        "colab": {
          "base_uri": "https://localhost:8080/"
        },
        "id": "WpQfJcth3LTC",
        "outputId": "61e98ea2-3b27-4816-c710-173f10a6827d"
      },
      "execution_count": 33,
      "outputs": [
        {
          "output_type": "execute_result",
          "data": {
            "text/plain": [
              "array([[6, 7, 5, ..., 8, 6, 7],\n",
              "       [0, 4, 9, ..., 6, 2, 6],\n",
              "       [3, 8, 9, ..., 7, 5, 7],\n",
              "       ...,\n",
              "       [1, 9, 4, ..., 9, 3, 0],\n",
              "       [8, 7, 6, ..., 5, 6, 9],\n",
              "       [6, 0, 1, ..., 9, 9, 7]])"
            ]
          },
          "metadata": {},
          "execution_count": 33
        }
      ]
    },
    {
      "cell_type": "code",
      "source": [
        "np.set_printoptions(edgeitems=10)\n",
        "A"
      ],
      "metadata": {
        "colab": {
          "base_uri": "https://localhost:8080/"
        },
        "id": "nWGTxp1J3Qj_",
        "outputId": "2bb77282-fedf-4046-d3e5-0ff853b0ddde"
      },
      "execution_count": 34,
      "outputs": [
        {
          "output_type": "execute_result",
          "data": {
            "text/plain": [
              "array([[6, 7, 5, 7, 1, 6, 1, 6, 5, 9, ..., 2, 8, 6, 7, 8, 0, 1, 8, 6, 7],\n",
              "       [0, 4, 9, 1, 4, 2, 3, 5, 1, 1, ..., 2, 4, 1, 3, 2, 8, 6, 6, 2, 6],\n",
              "       [3, 8, 9, 3, 1, 3, 1, 6, 0, 6, ..., 8, 1, 0, 7, 4, 8, 8, 7, 5, 7],\n",
              "       [2, 1, 5, 6, 2, 8, 1, 8, 3, 8, ..., 0, 0, 7, 3, 1, 1, 9, 1, 0, 7],\n",
              "       [3, 4, 4, 1, 1, 5, 4, 0, 4, 4, ..., 2, 1, 5, 4, 8, 8, 9, 1, 2, 5],\n",
              "       [3, 8, 3, 1, 7, 3, 8, 6, 1, 0, ..., 6, 7, 2, 3, 9, 5, 6, 1, 0, 8],\n",
              "       [5, 7, 1, 5, 4, 3, 5, 4, 0, 1, ..., 8, 3, 7, 8, 8, 6, 3, 8, 4, 4],\n",
              "       [5, 6, 3, 5, 5, 2, 1, 1, 9, 4, ..., 4, 6, 6, 8, 0, 0, 2, 7, 6, 3],\n",
              "       [4, 0, 9, 8, 2, 7, 6, 4, 0, 9, ..., 3, 2, 0, 4, 6, 1, 8, 7, 6, 8],\n",
              "       [7, 0, 7, 3, 7, 3, 8, 8, 0, 9, ..., 2, 2, 6, 6, 3, 5, 5, 5, 3, 1],\n",
              "       ...,\n",
              "       [4, 8, 8, 2, 3, 1, 5, 6, 1, 6, ..., 4, 1, 2, 0, 2, 0, 3, 9, 9, 1],\n",
              "       [9, 2, 9, 0, 8, 7, 7, 5, 5, 6, ..., 3, 4, 3, 8, 4, 2, 9, 1, 9, 3],\n",
              "       [9, 7, 9, 5, 6, 6, 8, 4, 4, 9, ..., 5, 6, 6, 6, 5, 5, 4, 3, 6, 8],\n",
              "       [1, 2, 0, 9, 7, 4, 3, 9, 9, 6, ..., 5, 9, 8, 4, 9, 0, 4, 7, 8, 6],\n",
              "       [6, 8, 4, 7, 4, 1, 5, 0, 8, 6, ..., 1, 5, 4, 4, 0, 9, 9, 3, 6, 0],\n",
              "       [7, 2, 0, 1, 6, 9, 8, 2, 3, 4, ..., 6, 3, 7, 4, 5, 9, 8, 2, 5, 9],\n",
              "       [4, 5, 9, 5, 6, 6, 0, 4, 8, 2, ..., 9, 2, 2, 9, 7, 9, 2, 3, 1, 5],\n",
              "       [1, 9, 4, 7, 4, 9, 7, 9, 0, 2, ..., 0, 0, 7, 3, 1, 3, 9, 9, 3, 0],\n",
              "       [8, 7, 6, 6, 5, 0, 3, 5, 7, 8, ..., 2, 4, 9, 7, 0, 8, 0, 5, 6, 9],\n",
              "       [6, 0, 1, 2, 9, 2, 6, 3, 8, 2, ..., 6, 3, 5, 9, 7, 8, 5, 9, 9, 7]])"
            ]
          },
          "metadata": {},
          "execution_count": 34
        }
      ]
    }
  ]
}