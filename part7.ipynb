{
  "nbformat": 4,
  "nbformat_minor": 0,
  "metadata": {
    "colab": {
      "provenance": [],
      "collapsed_sections": []
    },
    "kernelspec": {
      "name": "python3",
      "display_name": "Python 3"
    },
    "language_info": {
      "name": "python"
    }
  },
  "cells": [
    {
      "cell_type": "markdown",
      "source": [
        "# <u>**Part 7**\n",
        "\n"
      ],
      "metadata": {
        "id": "dIThB22c7Plg"
      }
    },
    {
      "cell_type": "code",
      "execution_count": 1,
      "metadata": {
        "id": "9s7_DRkN7LVE"
      },
      "outputs": [],
      "source": [
        "import numpy as np"
      ]
    },
    {
      "cell_type": "markdown",
      "source": [
        "### **Exercise 61**\n",
        "\n",
        "The followings arrays are given\n",
        "\n",
        "[[3, 4, 9, 2],<br>\n",
        "[5, 3, 2, 5]]<br>\n",
        "\n",
        "[[4, 3, 2, 5], <br>\n",
        "[6, 3, 1, 6]]\n",
        "\n",
        "Calculate arithmetic means of these arrays (elementwise) "
      ],
      "metadata": {
        "id": "5oUu1se07dW4"
      }
    },
    {
      "cell_type": "code",
      "source": [
        "A = np.array([[3, 4, 9, 2],\n",
        "              [5, 3, 2, 5]])\n",
        "B = np.array([[4, 3, 2, 5],\n",
        "              [6, 3, 1, 6]])\n",
        "\n",
        "print((A+B)/2, '\\n')\n",
        "print(np.divide(np.add(A,B), 2))"
      ],
      "metadata": {
        "colab": {
          "base_uri": "https://localhost:8080/"
        },
        "id": "01NPqhAC7WEA",
        "outputId": "41c9440e-cce4-4d7a-959f-a51cf4fa199e"
      },
      "execution_count": 4,
      "outputs": [
        {
          "output_type": "stream",
          "name": "stdout",
          "text": [
            "[[3.5 3.5 5.5 3.5]\n",
            " [5.5 3.  1.5 5.5]] \n",
            "\n",
            "[[3.5 3.5 5.5 3.5]\n",
            " [5.5 3.  1.5 5.5]]\n"
          ]
        }
      ]
    },
    {
      "cell_type": "markdown",
      "source": [
        "### **Exercise 62**\n",
        "\n",
        "The following arrays are given\n",
        "\n",
        "\n",
        "[[3, 4, 9, 2],<br>\n",
        "[5, 3, 2, 5]]<br>\n",
        "\n",
        "[[4, 3, 2, 5], <br>\n",
        "[6, 3, 1, 6]]\n",
        "\n",
        "Multiply these arrays (elementwise)."
      ],
      "metadata": {
        "id": "wBbJJOgY8uT7"
      }
    },
    {
      "cell_type": "code",
      "source": [
        "A = np.array([[3, 4, 9, 2],\n",
        "              [5, 3, 2, 5]])\n",
        "B = np.array([[4, 3, 2, 5],\n",
        "              [6, 3, 1, 6]])\n",
        "\n",
        "print((A*B), '\\n')\n",
        "print(np.multiply(A, B))"
      ],
      "metadata": {
        "colab": {
          "base_uri": "https://localhost:8080/"
        },
        "id": "39sCTf2Z8861",
        "outputId": "8f613395-9bcd-4faa-9f68-9a20ed6c9ead"
      },
      "execution_count": 8,
      "outputs": [
        {
          "output_type": "stream",
          "name": "stdout",
          "text": [
            "[[12 12 18 10]\n",
            " [30  9  2 30]] \n",
            "\n",
            "[[12 12 18 10]\n",
            " [30  9  2 30]]\n"
          ]
        }
      ]
    },
    {
      "cell_type": "markdown",
      "source": [
        "### **Exercise 63**\n",
        "\n",
        "The following array is given\n",
        "\n",
        "[[3, 4, 9, 2],<br>\n",
        "[5, 3, 2, 5]]<br>\n",
        "\n",
        "Calculate the square root of each element of this array"
      ],
      "metadata": {
        "id": "wmsH4Z3N9jdI"
      }
    },
    {
      "cell_type": "code",
      "source": [
        "A = np.array([[3, 4, 9, 2],\n",
        "              [5, 3, 2, 5]])\n",
        "\n",
        "np.sqrt(A)"
      ],
      "metadata": {
        "colab": {
          "base_uri": "https://localhost:8080/"
        },
        "id": "Oe-a_00i9uaT",
        "outputId": "ebdcce05-3a9f-4f9f-b969-a7faa2876392"
      },
      "execution_count": 9,
      "outputs": [
        {
          "output_type": "execute_result",
          "data": {
            "text/plain": [
              "array([[1.73205081, 2.        , 3.        , 1.41421356],\n",
              "       [2.23606798, 1.73205081, 1.41421356, 2.23606798]])"
            ]
          },
          "metadata": {},
          "execution_count": 9
        }
      ]
    },
    {
      "cell_type": "markdown",
      "source": [
        "### **Exercise 64**\n",
        "\n",
        "The following arrays are given\n",
        "\n",
        "A = np.linspace(0, np.pi / 2, 20) <br>\n",
        "B = np.full(shape=(20,), fill_value=1, dtype='float')\n",
        "\n",
        "Check the Pythagorean formula for sines and cosines on the A array and then compare the result with the B array. Use the np.allclose() function in this exercise."
      ],
      "metadata": {
        "id": "lwrwiXRA-G-y"
      }
    },
    {
      "cell_type": "code",
      "source": [
        "A = np.linspace(0, np.pi / 2, 20)\n",
        "B = np.full(shape=(20,), fill_value=1, dtype='float')\n",
        "\n",
        "print(A)\n",
        "print(B)"
      ],
      "metadata": {
        "colab": {
          "base_uri": "https://localhost:8080/"
        },
        "id": "uFQ1sTT0FkCz",
        "outputId": "82b10008-30d9-4913-85d1-cc86dbd25688"
      },
      "execution_count": 11,
      "outputs": [
        {
          "output_type": "stream",
          "name": "stdout",
          "text": [
            "[0.         0.08267349 0.16534698 0.24802047 0.33069396 0.41336745\n",
            " 0.49604095 0.57871444 0.66138793 0.74406142 0.82673491 0.9094084\n",
            " 0.99208189 1.07475538 1.15742887 1.24010236 1.32277585 1.40544935\n",
            " 1.48812284 1.57079633]\n",
            "[1. 1. 1. 1. 1. 1. 1. 1. 1. 1. 1. 1. 1. 1. 1. 1. 1. 1. 1. 1.]\n"
          ]
        }
      ]
    },
    {
      "cell_type": "code",
      "source": [
        "np.allclose(np.sin(A)**2+ np.cos(A)**2, B)"
      ],
      "metadata": {
        "colab": {
          "base_uri": "https://localhost:8080/"
        },
        "id": "kVixvybYOVyV",
        "outputId": "01821353-92c8-409f-ff93-0c03f237a988"
      },
      "execution_count": 12,
      "outputs": [
        {
          "output_type": "execute_result",
          "data": {
            "text/plain": [
              "True"
            ]
          },
          "metadata": {},
          "execution_count": 12
        }
      ]
    },
    {
      "cell_type": "code",
      "source": [
        "np.allclose(np.power(np.sin(A), 2)+ np.power(np.cos(A), 2), B)"
      ],
      "metadata": {
        "colab": {
          "base_uri": "https://localhost:8080/"
        },
        "id": "Novi5tA7OkUC",
        "outputId": "7f8f7d32-7d26-4bf0-9610-47a4680f7bfa"
      },
      "execution_count": 13,
      "outputs": [
        {
          "output_type": "execute_result",
          "data": {
            "text/plain": [
              "True"
            ]
          },
          "metadata": {},
          "execution_count": 13
        }
      ]
    },
    {
      "cell_type": "markdown",
      "source": [
        "### **Exercise 65**\n",
        "\n",
        "The following arrays are given:\n",
        "\n",
        "[[2, 3], <br>\n",
        "[-4, 2], <br>\n",
        "[5, 0]]\n",
        "\n",
        "[[4, 3, 2], <br>\n",
        "[-1, 0, 2]]\n",
        "\n",
        "Shapes of these arrays\n",
        "* A - 3x2\n",
        "* B - 2x3\n",
        "\n",
        "Perform matrix multiplication A*B \n",
        "\n"
      ],
      "metadata": {
        "id": "XXzZzMGdPBbU"
      }
    },
    {
      "cell_type": "code",
      "source": [
        "A = np.array([[2, 3],\n",
        "              [-4, 2],\n",
        "              [5, 0]])\n",
        "\n",
        "B = np.array([[4, 3, 2],\n",
        "              [-1, 0, 2]])\n",
        "\n",
        "np.dot(A, B)"
      ],
      "metadata": {
        "colab": {
          "base_uri": "https://localhost:8080/"
        },
        "id": "V8KzObmjPjnu",
        "outputId": "7d22fc67-90f8-4fcb-8632-d07ad729dff6"
      },
      "execution_count": 15,
      "outputs": [
        {
          "output_type": "execute_result",
          "data": {
            "text/plain": [
              "array([[  5,   6,  10],\n",
              "       [-18, -12,  -4],\n",
              "       [ 20,  15,  10]])"
            ]
          },
          "metadata": {},
          "execution_count": 15
        }
      ]
    },
    {
      "cell_type": "markdown",
      "source": [
        "### **Exercise 66**\n",
        "\n",
        "The following array (square matrix) is given\n",
        "\n",
        "[[-2, 0, 4], <br>\n",
        "[5, 2, -1], <br>\n",
        "[-4, 2, 4], <br>\n",
        "\n",
        "Calculate the determinant of this matrix and print it to the console"
      ],
      "metadata": {
        "id": "E5qrZY0zQHjL"
      }
    },
    {
      "cell_type": "code",
      "source": [
        "A = np.array([[-2, 0, 4],\n",
        "              [5, 2, 1],\n",
        "              [-4, 2, 4]])"
      ],
      "metadata": {
        "id": "QygLZBS5RRP9"
      },
      "execution_count": 16,
      "outputs": []
    },
    {
      "cell_type": "code",
      "source": [
        "np.linalg.det(A)"
      ],
      "metadata": {
        "colab": {
          "base_uri": "https://localhost:8080/"
        },
        "id": "vOnmMLiPReuC",
        "outputId": "4c8d56aa-d46f-4443-a102-149c7ea53f5d"
      },
      "execution_count": 17,
      "outputs": [
        {
          "output_type": "execute_result",
          "data": {
            "text/plain": [
              "59.999999999999986"
            ]
          },
          "metadata": {},
          "execution_count": 17
        }
      ]
    },
    {
      "cell_type": "markdown",
      "source": [
        "### **Exercise 67**\n",
        "\n",
        "The following array (square matrix) is given\n",
        "\n",
        "[[5, 8, 16], <br>\n",
        "[4, 1, 8], <br>\n",
        "[-4, 4, -11]]\n",
        "\n",
        "Calculate eigenvalues and their corresponding eigenvectors of this matrix"
      ],
      "metadata": {
        "id": "zR8NQF4ZR7B_"
      }
    },
    {
      "cell_type": "code",
      "source": [
        "A = np.array([[5, 8, 16],\n",
        "              [4, 1, 8],\n",
        "              [-4, 4, -11]])"
      ],
      "metadata": {
        "id": "_Hmzs7i1SN2Y"
      },
      "execution_count": 18,
      "outputs": []
    },
    {
      "cell_type": "code",
      "source": [
        "np.linalg.eig(A)"
      ],
      "metadata": {
        "colab": {
          "base_uri": "https://localhost:8080/"
        },
        "id": "fzhrn436SYDu",
        "outputId": "04c174e2-2190-47ff-c51f-c6797cefc89c"
      },
      "execution_count": 20,
      "outputs": [
        {
          "output_type": "execute_result",
          "data": {
            "text/plain": [
              "(array([-9.24621125, -3.        ,  7.24621125]),\n",
              " array([[-6.26164716e-01, -8.94427191e-01,  8.90159406e-01],\n",
              "        [-3.13082358e-01,  2.82399734e-16,  4.45079703e-01],\n",
              "        [ 7.14070855e-01,  4.47213595e-01, -9.75719719e-02]]))"
            ]
          },
          "metadata": {},
          "execution_count": 20
        }
      ]
    },
    {
      "cell_type": "code",
      "source": [
        "eigenvalues, eigenvectors = np.linalg.eig(A)\n",
        "print(eigenvalues)\n",
        "print(eigenvectors)"
      ],
      "metadata": {
        "colab": {
          "base_uri": "https://localhost:8080/"
        },
        "id": "FinqtAUBS6Tx",
        "outputId": "1f08ebed-4f7f-443a-9bea-68add78db4c2"
      },
      "execution_count": 21,
      "outputs": [
        {
          "output_type": "stream",
          "name": "stdout",
          "text": [
            "[-9.24621125 -3.          7.24621125]\n",
            "[[-6.26164716e-01 -8.94427191e-01  8.90159406e-01]\n",
            " [-3.13082358e-01  2.82399734e-16  4.45079703e-01]\n",
            " [ 7.14070855e-01  4.47213595e-01 -9.75719719e-02]]\n"
          ]
        }
      ]
    },
    {
      "cell_type": "markdown",
      "source": [
        "### **Exercise 68**\n",
        "\n",
        "The following array (square matrix) is given:\n",
        "\n",
        "[[5, 8, 16], <br>\n",
        "[4, 1, 8], <br>\n",
        "[-4, 4, -11]]\n",
        "\n",
        "Find the inverse to this matrix\n"
      ],
      "metadata": {
        "id": "r3GKHRdhWVZL"
      }
    },
    {
      "cell_type": "code",
      "source": [
        "A = np.array([[5, 8, 16],\n",
        "              [4, 1, 8],\n",
        "              [-4, 4, -11]])\n",
        "\n",
        "np.linalg.inv(A)"
      ],
      "metadata": {
        "colab": {
          "base_uri": "https://localhost:8080/"
        },
        "id": "GccDMRQgWppP",
        "outputId": "b3c51aaf-8d42-4d8d-d1cb-07eb9c5236f2"
      },
      "execution_count": 22,
      "outputs": [
        {
          "output_type": "execute_result",
          "data": {
            "text/plain": [
              "array([[-0.21393035,  0.75621891,  0.23880597],\n",
              "       [ 0.05970149,  0.04477612,  0.11940299],\n",
              "       [ 0.09950249, -0.25870647, -0.13432836]])"
            ]
          },
          "metadata": {},
          "execution_count": 22
        }
      ]
    },
    {
      "cell_type": "markdown",
      "source": [
        "### **Exercise 69**\n",
        "\n",
        "The following array (square matrix) is given:\n",
        "\n",
        "[[5, 8, 16], <br>\n",
        "[4, 1, 8], <br>\n",
        "[-4, 4, -11]]\n",
        "\n",
        "Find the trace of this matrix (sum of elements on the main diagonal)."
      ],
      "metadata": {
        "id": "lSutnnUkXAXH"
      }
    },
    {
      "cell_type": "code",
      "source": [
        "A = np.array([[5, 8, 16],\n",
        "              [4, 1, 8],\n",
        "              [-4, 4, -11]])\n",
        "\n",
        "np.trace(A)"
      ],
      "metadata": {
        "colab": {
          "base_uri": "https://localhost:8080/"
        },
        "id": "xaAZ9DCzXVVA",
        "outputId": "0f4a9fc6-31f4-4b3a-a5f5-15b664abca8a"
      },
      "execution_count": 23,
      "outputs": [
        {
          "output_type": "execute_result",
          "data": {
            "text/plain": [
              "-5"
            ]
          },
          "metadata": {},
          "execution_count": 23
        }
      ]
    },
    {
      "cell_type": "markdown",
      "source": [
        "### **Exercise 70**\n",
        "\n",
        "The following arrays are given\n",
        "\n",
        "[[2, 0], <br>\n",
        "[4, 2], <br>\n",
        "[5, 3], <br>\n",
        "[4, 2], <br>\n",
        "\n",
        "\n",
        "[[4, 0, 2, 1, 1, 0, 2, 9]]\n",
        "\n",
        "Shapes of the arrays\n",
        "\n",
        "* A - 4x2\n",
        "* B - 1x8\n",
        "\n",
        "Transform B array to perform the matrix multiplication A x B. Then perform this multiplication"
      ],
      "metadata": {
        "id": "rHBb9h-xXijy"
      }
    },
    {
      "cell_type": "code",
      "source": [
        "A = np.array([[2, 0],\n",
        "              [4, 2],\n",
        "              [5, 3],\n",
        "              [4, 2]])\n",
        "B = np.array([[4, 0, 2, 1, 1, 0, 2, 9]])\n",
        "\n",
        "np.dot(A, B.reshape(2, -1))"
      ],
      "metadata": {
        "colab": {
          "base_uri": "https://localhost:8080/"
        },
        "id": "dBGAguW7YwU3",
        "outputId": "21ceefa9-09c6-41aa-bd88-f8d6537c0fee"
      },
      "execution_count": 27,
      "outputs": [
        {
          "output_type": "execute_result",
          "data": {
            "text/plain": [
              "array([[ 8,  0,  4,  2],\n",
              "       [18,  0, 12, 22],\n",
              "       [23,  0, 16, 32],\n",
              "       [18,  0, 12, 22]])"
            ]
          },
          "metadata": {},
          "execution_count": 27
        }
      ]
    }
  ]
}