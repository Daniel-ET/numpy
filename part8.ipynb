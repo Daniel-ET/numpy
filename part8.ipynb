{
  "nbformat": 4,
  "nbformat_minor": 0,
  "metadata": {
    "colab": {
      "provenance": [],
      "collapsed_sections": []
    },
    "kernelspec": {
      "name": "python3",
      "display_name": "Python 3"
    },
    "language_info": {
      "name": "python"
    }
  },
  "cells": [
    {
      "cell_type": "markdown",
      "source": [
        "# <u>**Part 8**"
      ],
      "metadata": {
        "id": "8rxLKtDssOfZ"
      }
    },
    {
      "cell_type": "code",
      "execution_count": 2,
      "metadata": {
        "id": "1H39_SPPsL37"
      },
      "outputs": [],
      "source": [
        "import numpy as np"
      ]
    },
    {
      "cell_type": "markdown",
      "source": [
        "### **Exercise 71**\n",
        "\n",
        "The following array is given\n",
        "\n",
        "[['id', 'price'], <br>\n",
        "['001', 14.99], <br>\n",
        "['002', 4.99], <br>\n",
        "['003', 7.99], <br>\n",
        "['004', 2.49], <br>\n",
        "['005', 1.49]]\n",
        "\n",
        "Starting with the second row of this array, randomly shuffle the rows "
      ],
      "metadata": {
        "id": "InIGVl1JzCMF"
      }
    },
    {
      "cell_type": "code",
      "source": [
        "A = np.array([['id', 'price'],\n",
        "              ['001', 14.99],\n",
        "              ['002', 4.99],\n",
        "              ['003', 7.99],\n",
        "              ['004', 2.49],\n",
        "              ['005', 1.49]])\n",
        "A"
      ],
      "metadata": {
        "id": "lnKfMdtyydtv",
        "colab": {
          "base_uri": "https://localhost:8080/"
        },
        "outputId": "6acfac1e-3c64-47fe-cb30-18eb2119f55c"
      },
      "execution_count": 10,
      "outputs": [
        {
          "output_type": "execute_result",
          "data": {
            "text/plain": [
              "array([['id', 'price'],\n",
              "       ['001', '14.99'],\n",
              "       ['002', '4.99'],\n",
              "       ['003', '7.99'],\n",
              "       ['004', '2.49'],\n",
              "       ['005', '1.49']], dtype='<U32')"
            ]
          },
          "metadata": {},
          "execution_count": 10
        }
      ]
    },
    {
      "cell_type": "code",
      "source": [
        "np.random.shuffle(A[1:])\n",
        "A"
      ],
      "metadata": {
        "colab": {
          "base_uri": "https://localhost:8080/"
        },
        "id": "Cmvwx62uicNc",
        "outputId": "e05559fa-a07b-4893-d5b9-070d7e61b123"
      },
      "execution_count": 11,
      "outputs": [
        {
          "output_type": "execute_result",
          "data": {
            "text/plain": [
              "array([['id', 'price'],\n",
              "       ['005', '1.49'],\n",
              "       ['004', '2.49'],\n",
              "       ['001', '14.99'],\n",
              "       ['002', '4.99'],\n",
              "       ['003', '7.99']], dtype='<U32')"
            ]
          },
          "metadata": {},
          "execution_count": 11
        }
      ]
    },
    {
      "cell_type": "markdown",
      "source": [
        "### **Exercise 72**\n",
        "\n",
        "The following array is given\n",
        "\n",
        "[0.2, 0.15, 0.1, 0.3, 0.2, 0.05]\n",
        "\n",
        "Return a list on indexes that sirts this array in asceding order"
      ],
      "metadata": {
        "id": "OyYLoBYUjKU2"
      }
    },
    {
      "cell_type": "code",
      "source": [
        "A = np.array([0.2, 0.15, 0.1, 0.3, 0.2, 0.05])\n",
        "\n",
        "print(np.argsort(A))"
      ],
      "metadata": {
        "colab": {
          "base_uri": "https://localhost:8080/"
        },
        "id": "6B2sIYHDjWIf",
        "outputId": "37ef6876-21f8-46a2-8ed5-35f9fd34a8dd"
      },
      "execution_count": 12,
      "outputs": [
        {
          "output_type": "stream",
          "name": "stdout",
          "text": [
            "[5 2 1 0 4 3]\n"
          ]
        }
      ]
    },
    {
      "cell_type": "markdown",
      "source": [
        "### **Exercise 73**\n",
        "\n",
        "The following array is given\n",
        "\n",
        "A = np.random.randn(10, 8)\n",
        "\n",
        "Round the values of this array to three decimal places\n"
      ],
      "metadata": {
        "id": "glxX4fkskDHg"
      }
    },
    {
      "cell_type": "code",
      "source": [
        "A = np.random.randn(10, 8)\n",
        "A"
      ],
      "metadata": {
        "colab": {
          "base_uri": "https://localhost:8080/"
        },
        "id": "8AofxuKbkNAl",
        "outputId": "169c58d2-8cc7-4440-f79a-ea9726a2f744"
      },
      "execution_count": 13,
      "outputs": [
        {
          "output_type": "execute_result",
          "data": {
            "text/plain": [
              "array([[-2.13508345,  1.22701989,  1.00498287, -0.59314313, -0.03668155,\n",
              "         3.25076782,  0.29244203, -0.8428345 ],\n",
              "       [-0.70794142, -0.58891136,  0.14791325,  0.72161386, -1.32172219,\n",
              "         2.18151182,  0.97993691,  2.34659552],\n",
              "       [ 0.58779506,  0.2358804 , -0.41314624,  1.69625813, -1.02085176,\n",
              "        -0.34783895,  0.85352437,  0.29275662],\n",
              "       [-1.04601176,  0.42493195, -0.52275927,  0.1317998 , -0.81068845,\n",
              "        -0.08111142,  1.95752829,  1.75854324],\n",
              "       [ 0.79292331, -1.00239065,  1.65838922, -0.5363145 , -0.93099769,\n",
              "        -0.62485196,  0.62520426,  0.19527311],\n",
              "       [ 3.44760781, -0.23873964,  0.06476723,  0.69992377,  0.21124865,\n",
              "        -1.61559516,  1.19132067,  0.18345005],\n",
              "       [-0.20094928, -0.480315  , -0.03060424, -1.24464539,  1.00790365,\n",
              "         0.26113881, -0.04574916, -1.2049382 ],\n",
              "       [-0.22575945, -1.32483082,  1.23232849,  0.0356693 ,  1.46772293,\n",
              "         0.9599414 ,  2.77107289,  0.51430692],\n",
              "       [-1.89237389, -0.26417846, -1.11238819, -2.22416075,  0.19620949,\n",
              "        -2.16741898,  1.28369787,  0.95122879],\n",
              "       [-2.11991788, -0.33195095,  0.56483252,  1.13178947,  0.59424149,\n",
              "        -0.38579717,  0.54073484, -0.85180549]])"
            ]
          },
          "metadata": {},
          "execution_count": 13
        }
      ]
    },
    {
      "cell_type": "code",
      "source": [
        "np.round(A, 3)"
      ],
      "metadata": {
        "colab": {
          "base_uri": "https://localhost:8080/"
        },
        "id": "2TyD3f7JkZx1",
        "outputId": "e04649f9-269c-4379-d57d-131f24682f80"
      },
      "execution_count": 14,
      "outputs": [
        {
          "output_type": "execute_result",
          "data": {
            "text/plain": [
              "array([[-2.135,  1.227,  1.005, -0.593, -0.037,  3.251,  0.292, -0.843],\n",
              "       [-0.708, -0.589,  0.148,  0.722, -1.322,  2.182,  0.98 ,  2.347],\n",
              "       [ 0.588,  0.236, -0.413,  1.696, -1.021, -0.348,  0.854,  0.293],\n",
              "       [-1.046,  0.425, -0.523,  0.132, -0.811, -0.081,  1.958,  1.759],\n",
              "       [ 0.793, -1.002,  1.658, -0.536, -0.931, -0.625,  0.625,  0.195],\n",
              "       [ 3.448, -0.239,  0.065,  0.7  ,  0.211, -1.616,  1.191,  0.183],\n",
              "       [-0.201, -0.48 , -0.031, -1.245,  1.008,  0.261, -0.046, -1.205],\n",
              "       [-0.226, -1.325,  1.232,  0.036,  1.468,  0.96 ,  2.771,  0.514],\n",
              "       [-1.892, -0.264, -1.112, -2.224,  0.196, -2.167,  1.284,  0.951],\n",
              "       [-2.12 , -0.332,  0.565,  1.132,  0.594, -0.386,  0.541, -0.852]])"
            ]
          },
          "metadata": {},
          "execution_count": 14
        }
      ]
    },
    {
      "cell_type": "markdown",
      "source": [
        "### **Exercise 74**\n",
        "\n",
        "calculate the roots of the following polynomial\n",
        "\n",
        "$w(x) = 4x^2 + 5x + 1$\n"
      ],
      "metadata": {
        "id": "Oz4_pJwMlItM"
      }
    },
    {
      "cell_type": "code",
      "source": [
        "w = np.array([4, 5, 1])\n",
        "np.roots(w)"
      ],
      "metadata": {
        "colab": {
          "base_uri": "https://localhost:8080/"
        },
        "id": "lhHa3dMNmcaf",
        "outputId": "cbfffca9-dbf6-4879-e5d7-e47012602bad"
      },
      "execution_count": 16,
      "outputs": [
        {
          "output_type": "execute_result",
          "data": {
            "text/plain": [
              "array([-1.  , -0.25])"
            ]
          },
          "metadata": {},
          "execution_count": 16
        }
      ]
    },
    {
      "cell_type": "markdown",
      "source": [
        "### **Exercise 75**\n",
        "\n",
        "calculate the roots of the following polynomials\n",
        "\n",
        "$Q(x) = 2x^3 + 4x^2 - 5x +1 $ <br>\n",
        "$R(x) = 2x^3 - 5x +1 $\n",
        "\n",
        "\n"
      ],
      "metadata": {
        "id": "3hRlIm9CnCx7"
      }
    },
    {
      "cell_type": "code",
      "source": [
        "q = np.array([2, 4, -5, 1])\n",
        "r = np.array([2, 0, -5, 1])\n",
        "\n",
        "print(np.roots(q))\n",
        "print(np.roots(r))"
      ],
      "metadata": {
        "colab": {
          "base_uri": "https://localhost:8080/"
        },
        "id": "xyz-ntTXn9Tz",
        "outputId": "26b62617-a0c6-4002-f1a9-1d22bb7d4bcb"
      },
      "execution_count": 18,
      "outputs": [
        {
          "output_type": "stream",
          "name": "stdout",
          "text": [
            "[-2.91610583  0.65388685  0.26221898]\n",
            "[-1.67298165  1.46961743  0.20336421]\n"
          ]
        }
      ]
    },
    {
      "cell_type": "markdown",
      "source": [
        "### **Exercise 76**\n",
        "\n",
        "The following polynomials are given\n",
        "\n",
        "$W(x) = 4x^2 + 5x +1 $ <br>\n",
        "$Q(x) = 2x^3 + 4x^2 - 5x +1 $\n",
        "\n",
        "perform the following operations\n",
        "\n",
        "$W(x) + Q(x)$ <br>\n",
        "$W(x) - Q(x)$ <br>\n",
        "$W(x) * Q(x)$ <br>\n",
        "$W(x) + 2Q(x)$ \n"
      ],
      "metadata": {
        "id": "uvZo9O0Np73A"
      }
    },
    {
      "cell_type": "code",
      "source": [
        "w = np.array([4, 5, 1])\n",
        "q = np.array([2, 4, -5, 1])\n",
        "\n",
        "print(np.polyadd(w, q))\n",
        "print(np.polysub(w, q))\n",
        "print(np.polymul(w, q))\n",
        "print(np.polyadd(w, 2*q))"
      ],
      "metadata": {
        "colab": {
          "base_uri": "https://localhost:8080/"
        },
        "id": "UKCcxxwqpZbi",
        "outputId": "ce7e6533-168a-4941-fb9c-10b8b11f772d"
      },
      "execution_count": 19,
      "outputs": [
        {
          "output_type": "stream",
          "name": "stdout",
          "text": [
            "[2 8 0 2]\n",
            "[-2  0 10  0]\n",
            "[  8  26   2 -17   0   1]\n",
            "[ 4 12 -5  3]\n"
          ]
        }
      ]
    },
    {
      "cell_type": "markdown",
      "source": [
        "### **Exercise 77**\n",
        "\n",
        "The following array is given\n",
        "\n",
        "[[-4, 3, 0, 1, -5], <br>\n",
        "[6, -4, -2, 1 , 3]]\n",
        "\n",
        "Use the sign function for this array\n"
      ],
      "metadata": {
        "id": "g-W8DcFgsyUp"
      }
    },
    {
      "cell_type": "code",
      "source": [
        "A = np.array([[-4, 3, 0, 1, -5],\n",
        "              [6, -4, -2, 1, 3]])\n",
        "\n",
        "np.sign(A)"
      ],
      "metadata": {
        "colab": {
          "base_uri": "https://localhost:8080/"
        },
        "id": "fX630iP9syBI",
        "outputId": "3cf60d3c-1a91-432d-e10a-d577de1b52b7"
      },
      "execution_count": 22,
      "outputs": [
        {
          "output_type": "execute_result",
          "data": {
            "text/plain": [
              "array([[-1,  1,  0,  1, -1],\n",
              "       [ 1, -1, -1,  1,  1]])"
            ]
          },
          "metadata": {},
          "execution_count": 22
        }
      ]
    },
    {
      "cell_type": "markdown",
      "source": [
        "### **Exercise 78**\n",
        "\n",
        "Using the np.arange() function, generate the following array\n",
        "\n",
        "['2021-01-01' '2021-01-02' '2021-01-03' '2021-01-04' '2021-01-05' <br>\n",
        " '2021-01-06' '2021-01-07' '2021-01-08' '2021-01-09' '2021-01-10' <br>\n",
        " '2021-01-11' '2021-01-12' '2021-01-13' '2021-01-14' '2021-01-15' <br>\n",
        " '2021-01-16' '2021-01-17' '2021-01-18' '2021-01-19' '2021-01-20' <br>\n",
        " '2021-01-21' '2021-01-22' '2021-01-23' '2021-01-24' '2021-01-25' <br>\n",
        " '2021-01-26' '2021-01-27' '2021-01-28' '2021-01-29' '2021-01-30' <br>\n",
        " '2021-01-31']"
      ],
      "metadata": {
        "id": "EqS3InG7xh-m"
      }
    },
    {
      "cell_type": "code",
      "source": [
        "A = np.arange('2021-01-01', '2021-02-01', dtype= 'datetime64[D]')\n",
        "A"
      ],
      "metadata": {
        "colab": {
          "base_uri": "https://localhost:8080/"
        },
        "id": "13k4AcaXxhui",
        "outputId": "d6a546ac-aca7-438b-ef91-a2885d97ad81"
      },
      "execution_count": 23,
      "outputs": [
        {
          "output_type": "execute_result",
          "data": {
            "text/plain": [
              "array(['2021-01-01', '2021-01-02', '2021-01-03', '2021-01-04',\n",
              "       '2021-01-05', '2021-01-06', '2021-01-07', '2021-01-08',\n",
              "       '2021-01-09', '2021-01-10', '2021-01-11', '2021-01-12',\n",
              "       '2021-01-13', '2021-01-14', '2021-01-15', '2021-01-16',\n",
              "       '2021-01-17', '2021-01-18', '2021-01-19', '2021-01-20',\n",
              "       '2021-01-21', '2021-01-22', '2021-01-23', '2021-01-24',\n",
              "       '2021-01-25', '2021-01-26', '2021-01-27', '2021-01-28',\n",
              "       '2021-01-29', '2021-01-30', '2021-01-31'], dtype='datetime64[D]')"
            ]
          },
          "metadata": {},
          "execution_count": 23
        }
      ]
    },
    {
      "cell_type": "markdown",
      "source": [
        "### **Exercise 79**\n",
        "\n",
        "Using the np.arange() function, generate the following array\n",
        "\n",
        "[['2021-01' '2021-02' '2021-03'] <br>\n",
        " ['2021-04' '2021-05' '2021-06'] <br>\n",
        " ['2021-07' '2021-08' '2021-09'] <br>\n",
        " ['2021-10' '2021-11' '2021-12']]"
      ],
      "metadata": {
        "id": "wp-l9oVqyUyW"
      }
    },
    {
      "cell_type": "code",
      "source": [
        "A = np.arange('2021-01', '2022-01', dtype='datetime64[M]')\n",
        "A = A.reshape(-1, 3)\n",
        "print(A)"
      ],
      "metadata": {
        "colab": {
          "base_uri": "https://localhost:8080/"
        },
        "id": "2Wlm5PMCyjSo",
        "outputId": "5989c8aa-0a3d-41ed-af31-99e68a3c5774"
      },
      "execution_count": 24,
      "outputs": [
        {
          "output_type": "stream",
          "name": "stdout",
          "text": [
            "[['2021-01' '2021-02' '2021-03']\n",
            " ['2021-04' '2021-05' '2021-06']\n",
            " ['2021-07' '2021-08' '2021-09']\n",
            " ['2021-10' '2021-11' '2021-12']]\n"
          ]
        }
      ]
    },
    {
      "cell_type": "markdown",
      "source": [
        "### **Exercise 80**\n",
        "\n",
        "Using the np.datetime64() function, generate today's date"
      ],
      "metadata": {
        "id": "syhic9n8y4_e"
      }
    },
    {
      "cell_type": "code",
      "source": [
        "np.datetime64('today')"
      ],
      "metadata": {
        "colab": {
          "base_uri": "https://localhost:8080/"
        },
        "id": "xN_HQiMxzBAK",
        "outputId": "e64898d3-bac6-4d0e-8b09-6fa386980413"
      },
      "execution_count": 25,
      "outputs": [
        {
          "output_type": "execute_result",
          "data": {
            "text/plain": [
              "numpy.datetime64('2022-09-29')"
            ]
          },
          "metadata": {},
          "execution_count": 25
        }
      ]
    }
  ]
}