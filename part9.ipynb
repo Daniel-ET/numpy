{
  "nbformat": 4,
  "nbformat_minor": 0,
  "metadata": {
    "colab": {
      "provenance": [],
      "collapsed_sections": []
    },
    "kernelspec": {
      "name": "python3",
      "display_name": "Python 3"
    },
    "language_info": {
      "name": "python"
    }
  },
  "cells": [
    {
      "cell_type": "markdown",
      "source": [
        "# <u>**Part 9**\n",
        "\n"
      ],
      "metadata": {
        "id": "WFR1qTpx07kG"
      }
    },
    {
      "cell_type": "code",
      "execution_count": 11,
      "metadata": {
        "id": "IhY-gYw504Y3"
      },
      "outputs": [],
      "source": [
        "import numpy as np"
      ]
    },
    {
      "cell_type": "markdown",
      "source": [
        "### **Exercise 81**\n",
        "\n",
        "Using Numpy generate all dates for mondays from January and February 2020 as an array and print result to the console."
      ],
      "metadata": {
        "id": "BV3QGpUN1BQA"
      }
    },
    {
      "cell_type": "code",
      "source": [
        "np.arange('2020-01-06', '2020-03', dtype='datetime64[D]')[::7]"
      ],
      "metadata": {
        "colab": {
          "base_uri": "https://localhost:8080/"
        },
        "id": "0680rKzA1Ab7",
        "outputId": "8ac8eb09-d024-44b8-b8be-86ed91523097"
      },
      "execution_count": 9,
      "outputs": [
        {
          "output_type": "execute_result",
          "data": {
            "text/plain": [
              "array(['2020-01-06', '2020-01-13', '2020-01-20', '2020-01-27',\n",
              "       '2020-02-03', '2020-02-10', '2020-02-17', '2020-02-24'],\n",
              "      dtype='datetime64[D]')"
            ]
          },
          "metadata": {},
          "execution_count": 9
        }
      ]
    },
    {
      "cell_type": "markdown",
      "source": [
        "### **Exercise 82**\n",
        "\n",
        "The followings arrays are given\n",
        "\n",
        "A = np.array(['001', '002', '003'], dtype=np.str) <br>\n",
        "B = np.array(['XC', 'YC', 'ZC'], dtype=np.str)\n",
        "\n",
        "\n",
        "Merge them together "
      ],
      "metadata": {
        "id": "Jq-KBRqzDa5_"
      }
    },
    {
      "cell_type": "code",
      "source": [
        "A = np.array(['001', '002', '003'], dtype=str)\n",
        "B = np.array(['XC', 'YC', 'ZC'], dtype=str)"
      ],
      "metadata": {
        "id": "bcvLmguPDuo3"
      },
      "execution_count": 12,
      "outputs": []
    },
    {
      "cell_type": "code",
      "source": [
        "np.char.add(A, B)"
      ],
      "metadata": {
        "colab": {
          "base_uri": "https://localhost:8080/"
        },
        "id": "PB7_G646D1IO",
        "outputId": "47a88a38-9d66-42b5-ba4a-082761c17659"
      },
      "execution_count": 13,
      "outputs": [
        {
          "output_type": "execute_result",
          "data": {
            "text/plain": [
              "array(['001XC', '002YC', '003ZC'], dtype='<U5')"
            ]
          },
          "metadata": {},
          "execution_count": 13
        }
      ]
    },
    {
      "cell_type": "markdown",
      "source": [
        "### **Exercise 83**\n",
        "\n",
        "The following array is given\n",
        "\n",
        "A = np.array(['1', '2', '3'], dtype=np.str)\n",
        "\n",
        "Add '000' (3 zeros) at the beginning of each element of this array\n"
      ],
      "metadata": {
        "id": "ZK8vCzQrIttz"
      }
    },
    {
      "cell_type": "code",
      "source": [
        "A = np.array(['1', '2', '3'], dtype=str)"
      ],
      "metadata": {
        "id": "ifnYd95sJkYF"
      },
      "execution_count": 15,
      "outputs": []
    },
    {
      "cell_type": "code",
      "source": [
        "print(np.char.add('000', A))\n",
        "print(np.char.rjust(A, 4, fillchar='0'))\n",
        "print(np.char.zfill(A, 4))"
      ],
      "metadata": {
        "colab": {
          "base_uri": "https://localhost:8080/"
        },
        "id": "3sF-PNknJnhx",
        "outputId": "ef0635f9-958e-4cf6-9935-a46648eedede"
      },
      "execution_count": 16,
      "outputs": [
        {
          "output_type": "stream",
          "name": "stdout",
          "text": [
            "['0001' '0002' '0003']\n",
            "['0001' '0002' '0003']\n",
            "['0001' '0002' '0003']\n"
          ]
        }
      ]
    },
    {
      "cell_type": "markdown",
      "source": [
        "### **Exercise 84**\n",
        "\n",
        "The following array is given\n",
        "\n",
        "[['PLW CDR 11B TEN', 'AMC LPP'], <br>\n",
        "['CDR PKO KGH', 'CCC QMK']]\n",
        "\n",
        "Split each element of this array by space character "
      ],
      "metadata": {
        "id": "8I0SP92sKato"
      }
    },
    {
      "cell_type": "code",
      "source": [
        "A = np.array([['PLW CDR 11B TEN', 'AMC LPP'],\n",
        "              ['CDR PKO KGH', 'CCC QMK']], dtype=str)"
      ],
      "metadata": {
        "id": "8W957vQ1Ky_J"
      },
      "execution_count": 17,
      "outputs": []
    },
    {
      "cell_type": "code",
      "source": [
        "np.char.split(A)"
      ],
      "metadata": {
        "colab": {
          "base_uri": "https://localhost:8080/"
        },
        "id": "Dp2n7wU6K6tc",
        "outputId": "174453c2-cda6-4644-9441-5c27ab5c53fe"
      },
      "execution_count": 18,
      "outputs": [
        {
          "output_type": "execute_result",
          "data": {
            "text/plain": [
              "array([[list(['PLW', 'CDR', '11B', 'TEN']), list(['AMC', 'LPP'])],\n",
              "       [list(['CDR', 'PKO', 'KGH']), list(['CCC', 'QMK'])]], dtype=object)"
            ]
          },
          "metadata": {},
          "execution_count": 18
        }
      ]
    },
    {
      "cell_type": "markdown",
      "source": [
        "### **Exercise 85**\n",
        "\n",
        "The following array is given\n",
        "\n",
        "[['#summer#time#mood'], <br>\n",
        "['#sport#time']]\n",
        "\n",
        "Replace all # characters with spaces and then strip all unnecessary white characters around the text.\n"
      ],
      "metadata": {
        "id": "5K-y6fTGNX3U"
      }
    },
    {
      "cell_type": "code",
      "source": [
        "A = np.array([['#summer#time#mood'],\n",
        "              ['#sport#time']])\n",
        "A"
      ],
      "metadata": {
        "colab": {
          "base_uri": "https://localhost:8080/"
        },
        "id": "CxnaQytINpjT",
        "outputId": "8ccd8474-d8c1-4077-8f3b-b54b708d9db0"
      },
      "execution_count": 35,
      "outputs": [
        {
          "output_type": "execute_result",
          "data": {
            "text/plain": [
              "array([['#summer#time#mood'],\n",
              "       ['#sport#time']], dtype='<U17')"
            ]
          },
          "metadata": {},
          "execution_count": 35
        }
      ]
    },
    {
      "cell_type": "code",
      "source": [
        "print(np.char.strip(np.char.replace(A, '#', ' ')))"
      ],
      "metadata": {
        "colab": {
          "base_uri": "https://localhost:8080/"
        },
        "id": "Xg0YGe6rOeSK",
        "outputId": "165be3c2-0745-4018-ca5d-113b8729ddfa"
      },
      "execution_count": 36,
      "outputs": [
        {
          "output_type": "stream",
          "name": "stdout",
          "text": [
            "[['summer time mood']\n",
            " ['sport time']]\n"
          ]
        }
      ]
    },
    {
      "cell_type": "code",
      "source": [
        "A = np.char.replace(A, '#', ' ')\n",
        "A"
      ],
      "metadata": {
        "colab": {
          "base_uri": "https://localhost:8080/"
        },
        "id": "3o84j8QFN2h0",
        "outputId": "67a25d7c-6c72-4bb0-89aa-3fd29fdc15cf"
      },
      "execution_count": 37,
      "outputs": [
        {
          "output_type": "execute_result",
          "data": {
            "text/plain": [
              "array([[' summer time mood'],\n",
              "       [' sport time']], dtype='<U17')"
            ]
          },
          "metadata": {},
          "execution_count": 37
        }
      ]
    },
    {
      "cell_type": "code",
      "source": [
        "A = np.char.strip(A, ' ')\n",
        "A"
      ],
      "metadata": {
        "colab": {
          "base_uri": "https://localhost:8080/"
        },
        "id": "afSXOcgjOGIQ",
        "outputId": "615573e4-c37d-432f-de51-ad2161329355"
      },
      "execution_count": 38,
      "outputs": [
        {
          "output_type": "execute_result",
          "data": {
            "text/plain": [
              "array([['summer time mood'],\n",
              "       ['sport time']], dtype='<U17')"
            ]
          },
          "metadata": {},
          "execution_count": 38
        }
      ]
    },
    {
      "cell_type": "markdown",
      "source": [
        "### **Exercise 86**\n",
        "\n",
        "The following array is given\n",
        "\n",
        "[['#summer#time#mood', '#vibe'], <br>\n",
        "['#sport#time', '#good#time'], <br>\n",
        "['#event#summer', '#fast#move']] <br>\n",
        "\n",
        "Count the number of occurrences of the word 'time' in each element of this array.\n",
        "\n"
      ],
      "metadata": {
        "id": "1nJSK47POzI0"
      }
    },
    {
      "cell_type": "code",
      "source": [
        "A = np.array([['#summer#time#mood', '#vibe'],\n",
        "              ['#sport#time', '#good#time'],\n",
        "              ['#event#summer', '#fast#move']])"
      ],
      "metadata": {
        "id": "_FLLWQ9COaKX"
      },
      "execution_count": 39,
      "outputs": []
    },
    {
      "cell_type": "code",
      "source": [
        "np.char.count(A, 'time')"
      ],
      "metadata": {
        "colab": {
          "base_uri": "https://localhost:8080/"
        },
        "id": "4BPxRRo9Pleq",
        "outputId": "6ecc4789-c7e7-4811-ce65-1f21e2892e41"
      },
      "execution_count": 41,
      "outputs": [
        {
          "output_type": "execute_result",
          "data": {
            "text/plain": [
              "array([[1, 0],\n",
              "       [1, 1],\n",
              "       [0, 0]])"
            ]
          },
          "metadata": {},
          "execution_count": 41
        }
      ]
    },
    {
      "cell_type": "markdown",
      "source": [
        "### **Exercise 87**\n",
        "\n",
        "The following text is given\n",
        "\n",
        "text = \"\"\"ALIOR    PLALIOR00045    88 860 000    1 386 216 000    0,891    2,16    14 <br>\n",
        "CCC    PLCCC0000016    27 918 000    1 292 603 400    0,831    5,28    42 <br>\n",
        "CDPROJEKT    PLOPTTC00011    67 348 000    22 864 646 000    14,702    7,39    7 <br>\n",
        "CYFRPLSAT    PLCFRPT00013    275 301 000    6 854 994 900    4,408    1,17    14 <br>\n",
        "DINOPL    PLDINPL00011    47 937 000    8 916 282 000    5,733    9,13    12 <br>\n",
        "JSW    PLJSW0000015    52 636 000    716 902 320    0,461    1,51    24 <br>\n",
        "KGHM    PLKGHM000017    136 410 000    9 881 540 400    6,354    4,78    8 <br>\n",
        "LOTOS    PLLOTOS00025    86 543 000    5 609 717 260    3,607    2,91    16 <br>\n",
        "LPP    PLLPP0000011    1 306 000    7 444 200 000    4,787    1,43    19 <br>\n",
        "MBANK    PLBRE0000012    12 997 000    2 830 746 600    1,820    0,42    24 <br>\n",
        "ORANGEPL    PLTLKPL00017    647 357 000    4 285 503 340    2,756    1,16    13 <br>\n",
        "PEKAO    PLPEKAO00016    176 379 000    9 619 710 660    6,185    5,27    9 <br>\n",
        "PGE    PLPGER000010    796 776 000    3 561 588 720    2,290    2,88    18 <br>\n",
        "PGNIG    PLPGNIG00014    1 624 608 000    6 072 784 704    3,905    1,56    12 <br>\n",
        "PKNORLEN    PLPKN0000018    289 049 000    17 701 360 760    11,382    12,44    8 <br>\n",
        "PKOBP    PLPKO0000016    857 593 000    18 807 014 490    12,093    10,49    9 <br>\n",
        "PLAY    LU1642887738    114 151 000    3 696 209 380    2,377    1,47    16 <br>\n",
        "PZU    PLPZU0000011    568 305 000    17 515 160 100    11,262    6,64    6 <br>\n",
        "SANPL    PLBZ00000044    33 207 000    5 213 499 000    3,352    1,91    18 <br>\n",
        "TAURONPE    PLTAURN00011    1 043 590 000    1 252 308 000    0,805    1,21    33\"\"\" \n",
        "\n",
        "The columns mean: Instrument | ISIN code | Package | Package (PLN) | Share in portfolio (%) | Share in trading shares and PDAs per session (%) | Average spread per session\n",
        "\n",
        "Split text into lines. Then split each line by the tab character \\t and create an array (without headers) containing the data"
      ],
      "metadata": {
        "id": "Nd5WedkGak_M"
      }
    },
    {
      "cell_type": "code",
      "source": [
        "text = \"\"\"ALIOR\tPLALIOR00045\t88 860 000\t1 386 216 000\t0,891\t2,16\t14\n",
        "CCC\tPLCCC0000016\t27 918 000\t1 292 603 400\t0,831\t5,28\t42\n",
        "CDPROJEKT\tPLOPTTC00011\t67 348 000\t22 864 646 000\t14,702\t7,39\t7\n",
        "CYFRPLSAT\tPLCFRPT00013\t275 301 000\t6 854 994 900\t4,408\t1,17\t14\n",
        "DINOPL\tPLDINPL00011\t47 937 000\t8 916 282 000\t5,733\t9,13\t12\n",
        "JSW\tPLJSW0000015\t52 636 000\t716 902 320\t0,461\t1,51\t24\n",
        "KGHM\tPLKGHM000017\t136 410 000\t9 881 540 400\t6,354\t4,78\t8\n",
        "LOTOS\tPLLOTOS00025\t86 543 000\t5 609 717 260\t3,607\t2,91\t16\n",
        "LPP\tPLLPP0000011\t1 306 000\t7 444 200 000\t4,787\t1,43\t19\n",
        "MBANK\tPLBRE0000012\t12 997 000\t2 830 746 600\t1,820\t0,42\t24\n",
        "ORANGEPL\tPLTLKPL00017\t647 357 000\t4 285 503 340\t2,756\t1,16\t13\n",
        "PEKAO\tPLPEKAO00016\t176 379 000\t9 619 710 660\t6,185\t5,27\t9\n",
        "PGE\tPLPGER000010\t796 776 000\t3 561 588 720\t2,290\t2,88\t18\n",
        "PGNIG\tPLPGNIG00014\t1 624 608 000\t6 072 784 704\t3,905\t1,56\t12\n",
        "PKNORLEN\tPLPKN0000018\t289 049 000\t17 701 360 760\t11,382\t12,44\t8\n",
        "PKOBP\tPLPKO0000016\t857 593 000\t18 807 014 490\t12,093\t10,49\t9\n",
        "PLAY\tLU1642887738\t114 151 000\t3 696 209 380\t2,377\t1,47\t16\n",
        "PZU\tPLPZU0000011\t568 305 000\t17 515 160 100\t11,262\t6,64\t6\n",
        "SANPL\tPLBZ00000044\t33 207 000\t5 213 499 000\t3,352\t1,91\t18\n",
        "TAURONPE\tPLTAURN00011\t1 043 590 000\t1 252 308 000\t0,805\t1,21\t33\"\"\""
      ],
      "metadata": {
        "id": "iKvcuhpOcpDx"
      },
      "execution_count": 53,
      "outputs": []
    },
    {
      "cell_type": "code",
      "source": [
        "lines = text.splitlines()\n",
        "lines = [line.split('\\t') for line in lines]\n",
        "result = np.array(lines, dtype=str)\n",
        "print(result)"
      ],
      "metadata": {
        "colab": {
          "base_uri": "https://localhost:8080/"
        },
        "id": "4HtMJe-IcXOd",
        "outputId": "0455e84a-5e6e-4bea-b7b6-76666d0825e9"
      },
      "execution_count": 54,
      "outputs": [
        {
          "output_type": "stream",
          "name": "stdout",
          "text": [
            "[['ALIOR' 'PLALIOR00045' '88 860 000' '1 386 216 000' '0,891' '2,16' '14']\n",
            " ['CCC' 'PLCCC0000016' '27 918 000' '1 292 603 400' '0,831' '5,28' '42']\n",
            " ['CDPROJEKT' 'PLOPTTC00011' '67 348 000' '22 864 646 000' '14,702'\n",
            "  '7,39' '7']\n",
            " ['CYFRPLSAT' 'PLCFRPT00013' '275 301 000' '6 854 994 900' '4,408' '1,17'\n",
            "  '14']\n",
            " ['DINOPL' 'PLDINPL00011' '47 937 000' '8 916 282 000' '5,733' '9,13'\n",
            "  '12']\n",
            " ['JSW' 'PLJSW0000015' '52 636 000' '716 902 320' '0,461' '1,51' '24']\n",
            " ['KGHM' 'PLKGHM000017' '136 410 000' '9 881 540 400' '6,354' '4,78' '8']\n",
            " ['LOTOS' 'PLLOTOS00025' '86 543 000' '5 609 717 260' '3,607' '2,91' '16']\n",
            " ['LPP' 'PLLPP0000011' '1 306 000' '7 444 200 000' '4,787' '1,43' '19']\n",
            " ['MBANK' 'PLBRE0000012' '12 997 000' '2 830 746 600' '1,820' '0,42' '24']\n",
            " ['ORANGEPL' 'PLTLKPL00017' '647 357 000' '4 285 503 340' '2,756' '1,16'\n",
            "  '13']\n",
            " ['PEKAO' 'PLPEKAO00016' '176 379 000' '9 619 710 660' '6,185' '5,27' '9']\n",
            " ['PGE' 'PLPGER000010' '796 776 000' '3 561 588 720' '2,290' '2,88' '18']\n",
            " ['PGNIG' 'PLPGNIG00014' '1 624 608 000' '6 072 784 704' '3,905' '1,56'\n",
            "  '12']\n",
            " ['PKNORLEN' 'PLPKN0000018' '289 049 000' '17 701 360 760' '11,382'\n",
            "  '12,44' '8']\n",
            " ['PKOBP' 'PLPKO0000016' '857 593 000' '18 807 014 490' '12,093' '10,49'\n",
            "  '9']\n",
            " ['PLAY' 'LU1642887738' '114 151 000' '3 696 209 380' '2,377' '1,47' '16']\n",
            " ['PZU' 'PLPZU0000011' '568 305 000' '17 515 160 100' '11,262' '6,64' '6']\n",
            " ['SANPL' 'PLBZ00000044' '33 207 000' '5 213 499 000' '3,352' '1,91' '18']\n",
            " ['TAURONPE' 'PLTAURN00011' '1 043 590 000' '1 252 308 000' '0,805'\n",
            "  '1,21' '33']]\n"
          ]
        }
      ]
    },
    {
      "cell_type": "markdown",
      "source": [
        "### **Exercise 88**\n",
        "\n",
        "The following array is given\n",
        "\n",
        "result = np.array([['ALIOR', 'PLALIOR00045', '88 860 000', '1 386 216 000', '0,891', '2,16', '14'], <br>\n",
        "       ['CCC', 'PLCCC0000016', '27 918 000', '1 292 603 400', '0,831', '5,28', '42'], <br>\n",
        "       ['CDPROJEKT', 'PLOPTTC00011', '67 348 000', '22 864 646 000', '14,702', '7,39', '7'], <br>\n",
        "       ['CYFRPLSAT', 'PLCFRPT00013', '275 301 000', '6 854 994 900', '4,408', '1,17', '14'], <br>\n",
        "       ['DINOPL', 'PLDINPL00011', '47 937 000', '8 916 282 000', '5,733', '9,13', '12'], <br>\n",
        "       ['JSW', 'PLJSW0000015', '52 636 000', '716 902 320', '0,461', '1,51', '24'], <br>\n",
        "       ['KGHM', 'PLKGHM000017', '136 410 000', '9 881 540 400', '6,354', '4,78', '8'], <br>\n",
        "       ['LOTOS', 'PLLOTOS00025', '86 543 000', '5 609 717 260', '3,607', '2,91', '16'], <br>\n",
        "       ['LPP', 'PLLPP0000011', '1 306 000', '7 444 200 000', '4,787', '1,43', '19'], <br>\n",
        "       ['MBANK', 'PLBRE0000012', '12 997 000', '2 830 746 600', '1,820', '0,42', '24'], <br>\n",
        "       ['ORANGEPL', 'PLTLKPL00017', '647 357 000', '4 285 503 340', '2,756', '1,16', '13'], <br>\n",
        "       ['PEKAO', 'PLPEKAO00016', '176 379 000', '9 619 710 660', '6,185', '5,27', '9'], <br>\n",
        "       ['PGE', 'PLPGER000010', '796 776 000', '3 561 588 720', '2,290', '2,88', '18'], <br>\n",
        "       ['PGNIG', 'PLPGNIG00014', '1 624 608 000', '6 072 784 704', '3,905', '1,56', '12'], <br>\n",
        "       ['PKNORLEN', 'PLPKN0000018', '289 049 000', '17 701 360 760', '11,382', '12,44', '8'], <br>\n",
        "       ['PKOBP', 'PLPKO0000016', '857 593 000', '18 807 014 490', '12,093', '10,49', '9'], <br>\n",
        "       ['PLAY', 'LU1642887738', '114 151 000', '3 696 209 380', '2,377', '1,47', '16'], <br>\n",
        "       ['PZU', 'PLPZU0000011', '568 305 000', '17 515 160 100', '11,262', '6,64', '6'], <br>\n",
        "       ['SANPL', 'PLBZ00000044', '33 207 000', '5 213 499 000', '3,352', '1,91', '18'], <br>\n",
        "       ['TAURONPE', 'PLTAURN00011', '1 043 590 000', '1 252 308 000', '0,805', '1,21', '33']], dtype='<U14')\n",
        "\n",
        "Remove all spaces in the text and replace all commas with periods. "
      ],
      "metadata": {
        "id": "wFGMbAUcdje-"
      }
    },
    {
      "cell_type": "code",
      "source": [
        "result = np.array([['ALIOR', 'PLALIOR00045', '88 860 000', '1 386 216 000', '0,891', '2,16', '14'],\n",
        "       ['CCC', 'PLCCC0000016', '27 918 000', '1 292 603 400', '0,831', '5,28', '42'],\n",
        "       ['CDPROJEKT', 'PLOPTTC00011', '67 348 000', '22 864 646 000', '14,702', '7,39', '7'],\n",
        "       ['CYFRPLSAT', 'PLCFRPT00013', '275 301 000', '6 854 994 900', '4,408', '1,17', '14'],\n",
        "       ['DINOPL', 'PLDINPL00011', '47 937 000', '8 916 282 000', '5,733', '9,13', '12'],\n",
        "       ['JSW', 'PLJSW0000015', '52 636 000', '716 902 320', '0,461', '1,51', '24'],\n",
        "       ['KGHM', 'PLKGHM000017', '136 410 000', '9 881 540 400', '6,354', '4,78', '8'],\n",
        "       ['LOTOS', 'PLLOTOS00025', '86 543 000', '5 609 717 260', '3,607', '2,91', '16'],\n",
        "       ['LPP', 'PLLPP0000011', '1 306 000', '7 444 200 000', '4,787', '1,43', '19'],\n",
        "       ['MBANK', 'PLBRE0000012', '12 997 000', '2 830 746 600', '1,820', '0,42', '24'],\n",
        "       ['ORANGEPL', 'PLTLKPL00017', '647 357 000', '4 285 503 340', '2,756', '1,16', '13'],\n",
        "       ['PEKAO', 'PLPEKAO00016', '176 379 000', '9 619 710 660', '6,185', '5,27', '9'],\n",
        "       ['PGE', 'PLPGER000010', '796 776 000', '3 561 588 720', '2,290', '2,88', '18'],\n",
        "       ['PGNIG', 'PLPGNIG00014', '1 624 608 000', '6 072 784 704', '3,905', '1,56', '12'],\n",
        "       ['PKNORLEN', 'PLPKN0000018', '289 049 000', '17 701 360 760', '11,382', '12,44', '8'],\n",
        "       ['PKOBP', 'PLPKO0000016', '857 593 000', '18 807 014 490', '12,093', '10,49', '9'],\n",
        "       ['PLAY', 'LU1642887738', '114 151 000', '3 696 209 380', '2,377', '1,47', '16'],\n",
        "       ['PZU', 'PLPZU0000011', '568 305 000', '17 515 160 100', '11,262', '6,64', '6'],\n",
        "       ['SANPL', 'PLBZ00000044', '33 207 000', '5 213 499 000', '3,352', '1,91', '18'],\n",
        "       ['TAURONPE', 'PLTAURN00011', '1 043 590 000', '1 252 308 000', '0,805', '1,21', '33']], dtype='<U14')"
      ],
      "metadata": {
        "id": "RoDDuGuXfwG7"
      },
      "execution_count": 50,
      "outputs": []
    },
    {
      "cell_type": "code",
      "source": [
        "result = np.char.replace(result, ' ', '')\n",
        "result = np.char.replace(result, ',', '.')\n",
        "print(result)"
      ],
      "metadata": {
        "colab": {
          "base_uri": "https://localhost:8080/"
        },
        "id": "lBaBsdMqfzin",
        "outputId": "fbce69ac-2ba4-4191-b38f-ec2befa5dd56"
      },
      "execution_count": 52,
      "outputs": [
        {
          "output_type": "stream",
          "name": "stdout",
          "text": [
            "[['ALIOR' 'PLALIOR00045' '88860000' '1386216000' '0.891' '2.16' '14']\n",
            " ['CCC' 'PLCCC0000016' '27918000' '1292603400' '0.831' '5.28' '42']\n",
            " ['CDPROJEKT' 'PLOPTTC00011' '67348000' '22864646000' '14.702' '7.39' '7']\n",
            " ['CYFRPLSAT' 'PLCFRPT00013' '275301000' '6854994900' '4.408' '1.17' '14']\n",
            " ['DINOPL' 'PLDINPL00011' '47937000' '8916282000' '5.733' '9.13' '12']\n",
            " ['JSW' 'PLJSW0000015' '52636000' '716902320' '0.461' '1.51' '24']\n",
            " ['KGHM' 'PLKGHM000017' '136410000' '9881540400' '6.354' '4.78' '8']\n",
            " ['LOTOS' 'PLLOTOS00025' '86543000' '5609717260' '3.607' '2.91' '16']\n",
            " ['LPP' 'PLLPP0000011' '1306000' '7444200000' '4.787' '1.43' '19']\n",
            " ['MBANK' 'PLBRE0000012' '12997000' '2830746600' '1.820' '0.42' '24']\n",
            " ['ORANGEPL' 'PLTLKPL00017' '647357000' '4285503340' '2.756' '1.16' '13']\n",
            " ['PEKAO' 'PLPEKAO00016' '176379000' '9619710660' '6.185' '5.27' '9']\n",
            " ['PGE' 'PLPGER000010' '796776000' '3561588720' '2.290' '2.88' '18']\n",
            " ['PGNIG' 'PLPGNIG00014' '1624608000' '6072784704' '3.905' '1.56' '12']\n",
            " ['PKNORLEN' 'PLPKN0000018' '289049000' '17701360760' '11.382' '12.44'\n",
            "  '8']\n",
            " ['PKOBP' 'PLPKO0000016' '857593000' '18807014490' '12.093' '10.49' '9']\n",
            " ['PLAY' 'LU1642887738' '114151000' '3696209380' '2.377' '1.47' '16']\n",
            " ['PZU' 'PLPZU0000011' '568305000' '17515160100' '11.262' '6.64' '6']\n",
            " ['SANPL' 'PLBZ00000044' '33207000' '5213499000' '3.352' '1.91' '18']\n",
            " ['TAURONPE' 'PLTAURN00011' '1043590000' '1252308000' '0.805' '1.21' '33']]\n"
          ]
        }
      ]
    },
    {
      "cell_type": "markdown",
      "source": [
        "### **Exercise 89**\n",
        "\n",
        "result = np.array([['ALIOR', 'PLALIOR00045', '88860000', '1386216000', '0.891', '2.16', '14'], <br>\n",
        "['CCC', 'PLCCC0000016', '27918000', '1292603400', '0.831', '5.28', '42'], <br>\n",
        "['CDPROJEKT', 'PLOPTTC00011', '67348000', '22864646000', '14.702', '7.39', '7'], <br>\n",
        "['CYFRPLSAT', 'PLCFRPT00013', '275301000', '6854994900', '4.408', '1.17', '14'], <br>\n",
        "['DINOPL', 'PLDINPL00011', '47937000', '8916282000', '5.733', '9.13', '12'], <br>\n",
        "['JSW', 'PLJSW0000015', '52636000', '716902320', '0.461', '1.51', '24'], <br>\n",
        "['KGHM', 'PLKGHM000017', '136410000', '9881540400', '6.354', '4.78', '8'], <br>\n",
        "['LOTOS', 'PLLOTOS00025', '86543000', '5609717260', '3.607', '2.91', '16'], <br>\n",
        "['LPP', 'PLLPP0000011', '1306000', '7444200000', '4.787', '1.43', '19'], <br>\n",
        "['MBANK', 'PLBRE0000012', '12997000', '2830746600', '1.820', '0.42', '24'], <br>\n",
        "['ORANGEPL', 'PLTLKPL00017', '647357000', '4285503340', '2.756', '1.16', '13'], <br>\n",
        "['PEKAO', 'PLPEKAO00016', '176379000', '9619710660', '6.185', '5.27', '9'], <br>\n",
        "['PGE', 'PLPGER000010', '796776000', '3561588720', '2.290', '2.88', '18'], <br>\n",
        "['PGNIG', 'PLPGNIG00014', '1624608000', '6072784704', '3.905', '1.56', '12'], <br>\n",
        "['PKNORLEN', 'PLPKN0000018', '289049000', '17701360760', '11.382', '12.44', '8'], <br>\n",
        "['PKOBP', 'PLPKO0000016', '857593000', '18807014490', '12.093', '10.49', '9'], <br>\n",
        "['PLAY', 'LU1642887738', '114151000', '3696209380', '2.377', '1.47', '16'], <br>\n",
        "['PZU', 'PLPZU0000011', '568305000', '17515160100', '11.262', '6.64', '6'], <br>\n",
        "['SANPL', 'PLBZ00000044', '33207000', '5213499000', '3.352', '1.91', '18'], <br>\n",
        "['TAURONPE', 'PLTAURN00011', '1043590000', '1252308000', '0.805', '1.21', '33']], dtype='<U12')\n",
        "\n",
        "Extract all rows with the company name starting with the letter 'P' and assign to the *stocks_startswith_P* variable."
      ],
      "metadata": {
        "id": "C6TDK-5DgnYM"
      }
    },
    {
      "cell_type": "code",
      "source": [
        "result = np.array([['ALIOR', 'PLALIOR00045', '88 860 000', '1 386 216 000', '0,891', '2,16', '14'],\n",
        "       ['CCC', 'PLCCC0000016', '27 918 000', '1 292 603 400', '0,831', '5,28', '42'],\n",
        "       ['CDPROJEKT', 'PLOPTTC00011', '67 348 000', '22 864 646 000', '14,702', '7,39', '7'],\n",
        "       ['CYFRPLSAT', 'PLCFRPT00013', '275 301 000', '6 854 994 900', '4,408', '1,17', '14'],\n",
        "       ['DINOPL', 'PLDINPL00011', '47 937 000', '8 916 282 000', '5,733', '9,13', '12'],\n",
        "       ['JSW', 'PLJSW0000015', '52 636 000', '716 902 320', '0,461', '1,51', '24'],\n",
        "       ['KGHM', 'PLKGHM000017', '136 410 000', '9 881 540 400', '6,354', '4,78', '8'],\n",
        "       ['LOTOS', 'PLLOTOS00025', '86 543 000', '5 609 717 260', '3,607', '2,91', '16'],\n",
        "       ['LPP', 'PLLPP0000011', '1 306 000', '7 444 200 000', '4,787', '1,43', '19'],\n",
        "       ['MBANK', 'PLBRE0000012', '12 997 000', '2 830 746 600', '1,820', '0,42', '24'],\n",
        "       ['ORANGEPL', 'PLTLKPL00017', '647 357 000', '4 285 503 340', '2,756', '1,16', '13'],\n",
        "       ['PEKAO', 'PLPEKAO00016', '176 379 000', '9 619 710 660', '6,185', '5,27', '9'],\n",
        "       ['PGE', 'PLPGER000010', '796 776 000', '3 561 588 720', '2,290', '2,88', '18'],\n",
        "       ['PGNIG', 'PLPGNIG00014', '1 624 608 000', '6 072 784 704', '3,905', '1,56', '12'],\n",
        "       ['PKNORLEN', 'PLPKN0000018', '289 049 000', '17 701 360 760', '11,382', '12,44', '8'],\n",
        "       ['PKOBP', 'PLPKO0000016', '857 593 000', '18 807 014 490', '12,093', '10,49', '9'],\n",
        "       ['PLAY', 'LU1642887738', '114 151 000', '3 696 209 380', '2,377', '1,47', '16'],\n",
        "       ['PZU', 'PLPZU0000011', '568 305 000', '17 515 160 100', '11,262', '6,64', '6'],\n",
        "       ['SANPL', 'PLBZ00000044', '33 207 000', '5 213 499 000', '3,352', '1,91', '18'],\n",
        "       ['TAURONPE', 'PLTAURN00011', '1 043 590 000', '1 252 308 000', '0,805', '1,21', '33']], dtype='<U14')"
      ],
      "metadata": {
        "id": "lo_2HjwmiLM_"
      },
      "execution_count": 55,
      "outputs": []
    },
    {
      "cell_type": "code",
      "source": [
        "stocks_startswith_P = result[np.char.startswith(result[:, 0], 'P')]\n",
        "print(stocks_startswith_P)"
      ],
      "metadata": {
        "colab": {
          "base_uri": "https://localhost:8080/"
        },
        "id": "6XR1mQK6h1Uu",
        "outputId": "bf5f3c0e-23e2-4774-d522-dbdbc9f62d13"
      },
      "execution_count": 58,
      "outputs": [
        {
          "output_type": "stream",
          "name": "stdout",
          "text": [
            "[['PEKAO' 'PLPEKAO00016' '176 379 000' '9 619 710 660' '6,185' '5,27' '9']\n",
            " ['PGE' 'PLPGER000010' '796 776 000' '3 561 588 720' '2,290' '2,88' '18']\n",
            " ['PGNIG' 'PLPGNIG00014' '1 624 608 000' '6 072 784 704' '3,905' '1,56'\n",
            "  '12']\n",
            " ['PKNORLEN' 'PLPKN0000018' '289 049 000' '17 701 360 760' '11,382'\n",
            "  '12,44' '8']\n",
            " ['PKOBP' 'PLPKO0000016' '857 593 000' '18 807 014 490' '12,093' '10,49'\n",
            "  '9']\n",
            " ['PLAY' 'LU1642887738' '114 151 000' '3 696 209 380' '2,377' '1,47' '16']\n",
            " ['PZU' 'PLPZU0000011' '568 305 000' '17 515 160 100' '11,262' '6,64' '6']]\n"
          ]
        }
      ]
    },
    {
      "cell_type": "markdown",
      "source": [
        "### **Exercise 90**\n",
        "\n",
        "The following array is given\n",
        "\n",
        "stocks_startswith_P = np.array([['PEKAO', 'PLPEKAO00016', '176379000', '9619710660', '6.185', '5.27', '9'], <br>\n",
        "['PGE', 'PLPGER000010', '796776000', '3561588720', '2.290', '2.88', '18'], <br>\n",
        "['PGNIG', 'PLPGNIG00014', '1624608000', '6072784704', '3.905', '1.56', '12'], <br>\n",
        "['PKNORLEN', 'PLPKN0000018', '289049000', '17701360760', '11.382', '12.44', '8'], <br>\n",
        "['PKOBP', 'PLPKO0000016', '857593000', '18807014490', '12.093', '10.49', '9'], <br>\n",
        "['PLAY', 'LU1642887738', '114151000', '3696209380', '2.377', '1.47', '16'], <br>\n",
        "['PZU', 'PLPZU0000011', '568305000', '17515160100', '11.262', '6.64', '6']],dtype='<U12')\n",
        "\n",
        "Calculate the total share of companies whose name starts with the letter 'P'. Round the result to two decimal places "
      ],
      "metadata": {
        "id": "aJOB7g17lEHL"
      }
    },
    {
      "cell_type": "code",
      "source": [
        "stocks_startswith_P = np.array([['PEKAO', 'PLPEKAO00016', '176379000', '9619710660', '6.185', '5.27', '9'],\n",
        "       ['PGE', 'PLPGER000010', '796776000', '3561588720', '2.290', '2.88', '18'],\n",
        "       ['PGNIG', 'PLPGNIG00014', '1624608000', '6072784704', '3.905', '1.56', '12'],\n",
        "       ['PKNORLEN', 'PLPKN0000018', '289049000', '17701360760', '11.382', '12.44', '8'],\n",
        "       ['PKOBP', 'PLPKO0000016', '857593000', '18807014490', '12.093', '10.49', '9'],\n",
        "       ['PLAY', 'LU1642887738', '114151000', '3696209380', '2.377', '1.47', '16'],\n",
        "       ['PZU', 'PLPZU0000011', '568305000', '17515160100', '11.262', '6.64', '6']], dtype='<U12')"
      ],
      "metadata": {
        "id": "h0FVq7Bjl45A"
      },
      "execution_count": 59,
      "outputs": []
    },
    {
      "cell_type": "code",
      "source": [
        "np.round(stocks_startswith_P[:, 4].astype(float).sum(), 2)"
      ],
      "metadata": {
        "colab": {
          "base_uri": "https://localhost:8080/"
        },
        "id": "jTh7eLV8lg0o",
        "outputId": "d7b6f4de-d14b-4046-be4b-3ff8f79ca765"
      },
      "execution_count": 62,
      "outputs": [
        {
          "output_type": "execute_result",
          "data": {
            "text/plain": [
              "49.49"
            ]
          },
          "metadata": {},
          "execution_count": 62
        }
      ]
    }
  ]
}